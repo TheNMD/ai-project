{
 "cells": [
  {
   "cell_type": "code",
   "execution_count": 6,
   "metadata": {},
   "outputs": [],
   "source": [
    "import tensorflow as tf\n",
    "import numpy as np\n",
    "from matplotlib import pyplot\n",
    "from sklearn import preprocessing"
   ]
  },
  {
   "cell_type": "code",
   "execution_count": 12,
   "metadata": {},
   "outputs": [],
   "source": [
    "# Loading the MNIST datasets - 60000 images for training and 10000 images for testing\n",
    "(imageTrain, labelTrain), (imageTest, labelTest) = tf.keras.datasets.mnist.load_data()\n",
    "\n",
    "# Splitting the training set into 2: 55000 images for training and 5000 images for validation\n",
    "imageTest = imageTest[:]\n",
    "labelTest = labelTest[:]\n",
    "\n",
    "imageValid = imageTrain[55000:]\n",
    "labelValid = labelTrain[55000:]\n",
    "\n",
    "imageTrain = imageTrain[:55000]\n",
    "labelTrain = labelTrain[:55000]"
   ]
  },
  {
   "cell_type": "code",
   "execution_count": 13,
   "metadata": {},
   "outputs": [
    {
     "data": {
      "image/png": "[encoded data removed]",
      "text/plain": [
       "<Figure size 640x480 with 1 Axes>"
      ]
     },
     "metadata": {},
     "output_type": "display_data"
    }
   ],
   "source": [
    "# Visualizing data\n",
    "# Printing an array\n",
    "def printArr(idx):\n",
    "    to_write = \"\"\n",
    "    for i in range(28):\n",
    "        for j in range(28):\n",
    "            if(len(str(imageTrain[idx][i][j])) == 1):\n",
    "                to_write += str(imageTrain[idx][i][j]) + \"    \"\n",
    "            elif(len(str(imageTrain[idx][i][j])) == 2):\n",
    "                to_write += str(imageTrain[idx][i][j]) + \"   \"\n",
    "            else:\n",
    "                to_write += str(imageTrain[idx][i][j]) + \"  \"\n",
    "        to_write += \"\\n\"\n",
    "    to_write += f\"\\nDigit: {labelTrain[idx]}\"\n",
    "    with open(\"./test/imageArr.txt\", \"w\") as file:\n",
    "        file.write(to_write)\n",
    "        \n",
    "# Plotting an image\n",
    "def plotImage(idx):\n",
    "    pyplot.title(f\"Digit {labelTrain[idx]}\")\n",
    "    pyplot.imshow(imageTrain[idx], cmap='gray')\n",
    "    pyplot.savefig(\"./test/digitGrey.jpg\")\n",
    "\n",
    "idx = 7\n",
    "printArr(idx)\n",
    "plotImage(idx)"
   ]
  },
  {
   "cell_type": "code",
   "execution_count": 14,
   "metadata": {},
   "outputs": [],
   "source": [
    "# Preprocessing data (normalizing image arrays and 1-hot encoding label arrays)\n",
    "# imageTest = np.reshape(imageTest, (10000, 784))\n",
    "# imageTest = preprocessing.normalize(imageTest, norm = \"max\")\n",
    "labelTest = tf.keras.utils.to_categorical(labelTest, num_classes=10)\n",
    "\n",
    "# imageValid = np.reshape(imageValid, (5000, 784))\n",
    "# imageValid = preprocessing.normalize(imageValid, norm = \"max\")\n",
    "labelValid = tf.keras.utils.to_categorical(labelValid, num_classes=10)\n",
    "\n",
    "# imageTrain = np.reshape(imageTrain, (55000, 784))\n",
    "# imageTrain = preprocessing.normalize(imageTrain, norm=\"max\")\n",
    "labelTrain = tf.keras.utils.to_categorical(labelTrain, num_classes=10)"
   ]
  },
  {
   "cell_type": "code",
   "execution_count": 69,
   "metadata": {},
   "outputs": [
    {
     "name": "stdout",
     "output_type": "stream",
     "text": [
      "(5, 26, 26)\n"
     ]
    },
    {
     "ename": "ValueError",
     "evalue": "shapes (10,3380) and (5,26,26) not aligned: 3380 (dim 1) != 26 (dim 1)",
     "output_type": "error",
     "traceback": [
      "\u001b[1;31m---------------------------------------------------------------------------\u001b[0m",
      "\u001b[1;31mValueError\u001b[0m                                Traceback (most recent call last)",
      "Cell \u001b[1;32mIn [69], line 98\u001b[0m\n\u001b[0;32m     95\u001b[0m         \u001b[38;5;28;01mreturn\u001b[39;00m lossDict, tesDict\n\u001b[0;32m     97\u001b[0m model \u001b[38;5;241m=\u001b[39m CNN(batchSize\u001b[38;5;241m=\u001b[39m\u001b[38;5;241m50\u001b[39m, iterations\u001b[38;5;241m=\u001b[39m\u001b[38;5;241m10\u001b[39m, learningRate\u001b[38;5;241m=\u001b[39m\u001b[38;5;241m0.05\u001b[39m)\n\u001b[1;32m---> 98\u001b[0m \u001b[43mmodel\u001b[49m\u001b[38;5;241;43m.\u001b[39;49m\u001b[43mtrain\u001b[49m\u001b[43m(\u001b[49m\u001b[43mimageTrain\u001b[49m\u001b[43m,\u001b[49m\u001b[43m \u001b[49m\u001b[43mlabelTrain\u001b[49m\u001b[43m)\u001b[49m\n",
      "Cell \u001b[1;32mIn [69], line 75\u001b[0m, in \u001b[0;36mCNN.train\u001b[1;34m(self, xTrain, yTrain)\u001b[0m\n\u001b[0;32m     72\u001b[0m tesDict \u001b[38;5;241m=\u001b[39m {}\n\u001b[0;32m     74\u001b[0m \u001b[38;5;28;01mfor\u001b[39;00m i \u001b[38;5;129;01min\u001b[39;00m idxList:\n\u001b[1;32m---> 75\u001b[0m     resultFF \u001b[38;5;241m=\u001b[39m \u001b[38;5;28;43mself\u001b[39;49m\u001b[38;5;241;43m.\u001b[39;49m\u001b[43mforwardfeed\u001b[49m\u001b[43m(\u001b[49m\u001b[43mxTrain\u001b[49m\u001b[43m[\u001b[49m\u001b[43mi\u001b[49m\u001b[43m]\u001b[49m\u001b[43m,\u001b[49m\u001b[43m \u001b[49m\u001b[43myTrain\u001b[49m\u001b[43m[\u001b[49m\u001b[43mi\u001b[49m\u001b[43m]\u001b[49m\u001b[43m)\u001b[49m\n\u001b[0;32m     76\u001b[0m     resultBP \u001b[38;5;241m=\u001b[39m \u001b[38;5;28mself\u001b[39m\u001b[38;5;241m.\u001b[39mbackpropagation(xTrain[i], yTrain[i], resultFF)\n\u001b[0;32m     78\u001b[0m     \u001b[38;5;28mself\u001b[39m\u001b[38;5;241m.\u001b[39mw \u001b[38;5;241m-\u001b[39m\u001b[38;5;241m=\u001b[39m \u001b[38;5;28mself\u001b[39m\u001b[38;5;241m.\u001b[39mlearningRate \u001b[38;5;241m*\u001b[39m resultBP[\u001b[38;5;124m'\u001b[39m\u001b[38;5;124mdW\u001b[39m\u001b[38;5;124m'\u001b[39m]\n",
      "Cell \u001b[1;32mIn [69], line 46\u001b[0m, in \u001b[0;36mCNN.forwardfeed\u001b[1;34m(self, x, y)\u001b[0m\n\u001b[0;32m     44\u001b[0m \u001b[38;5;28mprint\u001b[39m(v\u001b[38;5;241m.\u001b[39mshape)\n\u001b[0;32m     45\u001b[0m z \u001b[38;5;241m=\u001b[39m \u001b[38;5;28mself\u001b[39m\u001b[38;5;241m.\u001b[39mrelu(v) \u001b[38;5;66;03m# Feature map after ReLU\u001b[39;00m\n\u001b[1;32m---> 46\u001b[0m a \u001b[38;5;241m=\u001b[39m \u001b[43mnp\u001b[49m\u001b[38;5;241;43m.\u001b[39;49m\u001b[43mdot\u001b[49m\u001b[43m(\u001b[49m\u001b[38;5;28;43mself\u001b[39;49m\u001b[38;5;241;43m.\u001b[39;49m\u001b[43mw\u001b[49m\u001b[43m,\u001b[49m\u001b[43m \u001b[49m\u001b[43mz\u001b[49m\u001b[43m)\u001b[49m \u001b[38;5;241m+\u001b[39m \u001b[38;5;28mself\u001b[39m\u001b[38;5;241m.\u001b[39mb\n\u001b[0;32m     47\u001b[0m y \u001b[38;5;241m=\u001b[39m \u001b[38;5;28mself\u001b[39m\u001b[38;5;241m.\u001b[39msoftmax(a)\n\u001b[0;32m     48\u001b[0m \u001b[38;5;66;03m#error = self.cross_entropy_error(predict_list, y)\u001b[39;00m\n",
      "File \u001b[1;32m<__array_function__ internals>:180\u001b[0m, in \u001b[0;36mdot\u001b[1;34m(*args, **kwargs)\u001b[0m\n",
      "\u001b[1;31mValueError\u001b[0m: shapes (10,3380) and (5,26,26) not aligned: 3380 (dim 1) != 26 (dim 1)"
     ]
    }
   ],
   "source": [
    "# Implementing a convolutional neural network with 1 convolution layer and 1 pooling layer\n",
    "class CNN:\n",
    "    def __init__(self, batchSize, iterations, learningRate):\n",
    "        # Initializing model hyperparameters\n",
    "        self.batchSize, self.iterations, self.learningRate = batchSize, iterations, learningRate\n",
    "        self.stride = 1          # Stride for convolution layer\n",
    "        self.padding = 0         # Padding for convolution layer\n",
    "        self.kernelDim = 3       # Dimension of kernel = 3 x 3\n",
    "        self.kernelNum = 5       # Number of kernels (filters)\n",
    "        self.inputDim = 28       # Dimension of input images = 28 x 28\n",
    "        self.featureDim = 26     # Dimension of feature map = inputDim + 2 * padding - kernelDim) / stride + 1 \n",
    "        self.outputDim = 10      # Dimension of output results = 10 x 1\n",
    "        self.sizeTest = 10000    # Size of test set\n",
    "        self.sizeValid = 5000    # Size of validation set\n",
    "        self.sizeTrain = 55000   # Size of training set\n",
    "    \n",
    "    # Convolution layer\n",
    "    def convolution(self, x, kernelList):\n",
    "        result = np.zeros((self.kernelNum, self.featureDim, self.featureDim))\n",
    "        \n",
    "        for n in range(self.kernelNum):\n",
    "            for i in range(self.featureDim):\n",
    "                for j in range(self.featureDim):\n",
    "                    result[n, i, j] = np.sum(np.multiply(kernelList[n], x[i : i + self.kernelDim, j : j + self.kernelDim]))\n",
    "        return result\n",
    "    \n",
    "    # Nonlinear layer using ReLU activation\n",
    "    def relu(self, x):\n",
    "        return np.maximum(x, 0)\n",
    "    \n",
    "    def softmax(self, x):\n",
    "        c = np.max(x, axis = 0, keepdims=True)\n",
    "        x -= c\n",
    "        e = np.exp(x)\n",
    "        return e / np.sum(e, axis = 0, keepdims=True)\n",
    "    \n",
    "    def forwardfeed(self, x, y):\n",
    "        ''' input -- x: training data input x, size of (784,)\n",
    "                     y: training data output y, integer\n",
    "            output-- a dictionary of Z, H, U, f_X, error\n",
    "        '''\n",
    "        v = self.convolution(x, self.kernelList) # Feature map\n",
    "        z = (self.relu(v)).T # Feature map after ReLU\n",
    "        print(z.shape)\n",
    "        a = np.dot(self.w, z) + self.b\n",
    "        y = self.softmax(a)\n",
    "        #error = self.cross_entropy_error(predict_list, y)\n",
    "        return (v, z, a, y)\n",
    "    \n",
    "    def train(self, xTrain, yTrain):\n",
    "        # Initializing random weights and biases for output layer\n",
    "        # Dimension of weight is 10 x 3380 to map convolution layer (x) to output layer (y) \n",
    "        self.w = 0.01 * np.random.randn(self.outputDim, self.kernelNum * self.featureDim ** 2)\n",
    "        # Dimension of bias is 10 x 1\n",
    "        self.b = 0.01 * np.random.randn(self.outputDim, 1)\n",
    "        # Initializing random kernels for convolutional layer\n",
    "        self.kernelList = []\n",
    "        for n in range(self.kernelNum):\n",
    "            kernel = 0.01 * np.random.randn(self.kernelDim, self.kernelDim)\n",
    "            self.kernelList.append(kernel)\n",
    "            \n",
    "        # print(self.W)\n",
    "        # print(self.b)\n",
    "        # print(self.kernelList)\n",
    "        \n",
    "        # Generating a random list of indices for the training set\n",
    "        idxList = np.random.randint(low=0, high=self.sizeTrain, size=self.batchSize)\n",
    "\n",
    "        count = 0\n",
    "        lossDict = {}\n",
    "        tesDict = {}\n",
    "\n",
    "        for i in idxList:\n",
    "            resultFF = self.forwardfeed(xTrain[i], yTrain[i])\n",
    "            resultBP = self.backpropagation(xTrain[i], yTrain[i], resultFF)\n",
    "            \n",
    "            self.w -= self.learningRate * resultBP['dW']\n",
    "            self.b -= self.learningRate * resultBP['db']\n",
    "            for i in range(self.kernelNum):\n",
    "                self.kernels[i] -= self.learningRate * resultBP['dK'][i]\n",
    "            \n",
    "            # if count % 100 == 0:\n",
    "            #     if count % 30000 == 0:\n",
    "            #         loss = self.loss(x_test,y_test)\n",
    "            #         test = self.testing(x_test,y_test)\n",
    "            #         print('Trained for {} times,'.format(count),'loss = {}, test = {}'.format(loss,test))\n",
    "            #         # loss_dict[str(count)]=loss\n",
    "            #         test_dict[str(count)]=test\n",
    "            #     else:\n",
    "            #         print('Trained for {} times,'.format(count))\n",
    "            count += 1\n",
    "\n",
    "        print(\"Training finished!\")\n",
    "        return lossDict, tesDict\n",
    "    \n",
    "model = CNN(batchSize=50, iterations=10, learningRate=0.05)\n",
    "model.train(imageTrain, labelTrain)"
   ]
  }
 ],
 "metadata": {
  "kernelspec": {
   "display_name": "Python 3.10.6 ('venv': venv)",
   "language": "python",
   "name": "python3"
  },
  "language_info": {
   "codemirror_mode": {
    "name": "ipython",
    "version": 3
   },
   "file_extension": ".py",
   "mimetype": "text/x-python",
   "name": "python",
   "nbconvert_exporter": "python",
   "pygments_lexer": "ipython3",
   "version": "3.10.6"
  },
  "orig_nbformat": 4,
  "vscode": {
   "interpreter": {
    "hash": "f2ec3a27b206c5c715624a547105f4453c6ed312d93e4b85e955c3b1a3db3dae"
   }
  }
 },
 "nbformat": 4,
 "nbformat_minor": 2
}
