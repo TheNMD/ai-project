{
 "cells": [
  {
   "cell_type": "code",
   "execution_count": 57,
   "metadata": {},
   "outputs": [],
   "source": [
    "import tensorflow as tf\n",
    "import numpy as np\n",
    "from matplotlib import pyplot\n",
    "from sklearn import preprocessing"
   ]
  },
  {
   "cell_type": "code",
   "execution_count": 58,
   "metadata": {},
   "outputs": [],
   "source": [
    "# Loading the MNIST datasets - 60000 images for training and 10000 images for testing\n",
    "(imageTrainRaw, labelTrainRaw), (imageTestRaw, labelTestRaw) = tf.keras.datasets.mnist.load_data()\n",
    "\n",
    "# Splitting the training set into 2: 55000 images for training and 5000 images for validation\n",
    "imageTestRaw = imageTestRaw[:]\n",
    "labelTestRaw = labelTestRaw[:]\n",
    "imageValidRaw = imageTrainRaw[55000:]\n",
    "labelValidRaw = labelTrainRaw[55000:]\n",
    "imageTrainRaw = imageTrainRaw[:55000]\n",
    "labelTrainRaw = labelTrainRaw[:55000]\n"
   ]
  },
  {
   "cell_type": "code",
   "execution_count": 59,
   "metadata": {},
   "outputs": [
    {
     "data": {
      "image/png": "[encoded data removed]",
      "text/plain": [
       "<Figure size 640x480 with 1 Axes>"
      ]
     },
     "metadata": {},
     "output_type": "display_data"
    }
   ],
   "source": [
    "# Plotting an image\n",
    "def plotImage(idx):\n",
    "    pyplot.title(f\"Digit {labelTrainRaw[idx]}\")\n",
    "    pyplot.imshow(imageTrainRaw[idx], cmap='gray')\n",
    "    pyplot.savefig(\"./test/digitGrey.jpg\")\n",
    "    \n",
    "plotImage(idx = 0)"
   ]
  },
  {
   "cell_type": "code",
   "execution_count": 60,
   "metadata": {},
   "outputs": [],
   "source": [
    "# Preprocessing data (normalizing image arrays and 1-hot encoding label arrays)\n",
    "imageTest = np.reshape(imageTestRaw, (10000, 784))\n",
    "imageTest = preprocessing.normalize(imageTest, norm = \"max\")\n",
    "labelTest = tf.keras.utils.to_categorical(labelTestRaw, num_classes=10)\n",
    "\n",
    "imageValid = np.reshape(imageValidRaw, (5000, 784))\n",
    "imageValid = preprocessing.normalize(imageValid, norm = \"max\")\n",
    "labelValid = tf.keras.utils.to_categorical(labelValidRaw, num_classes=10)\n",
    "\n",
    "imageTrain = np.reshape(imageTrainRaw, (55000, 784))\n",
    "imageTrain = preprocessing.normalize(imageTrain, norm=\"max\")\n",
    "labelTrain = tf.keras.utils.to_categorical(labelTrainRaw, num_classes=10)"
   ]
  },
  {
   "cell_type": "code",
   "execution_count": 61,
   "metadata": {},
   "outputs": [],
   "source": [
    "# Setting up the neural network layer dimension and hypermeters \n",
    "iter = 10000    # Number of iterations\n",
    "size = 55000    # Number of inputs\n",
    "batchSize = 50  # Size of mini-batch GD\n",
    "etaInit = 0.01  # Initial learning rate\n",
    "etaDecay = 1    # Learning rate decay\n",
    "dInput = 784    # Input layer (28x28 pixels)\n",
    "dHidden = 400   # Hidden layer (16x16 pixel)\n",
    "dOutput = 10    # Output layer (0-9 digits)"
   ]
  },
  {
   "cell_type": "code",
   "execution_count": 62,
   "metadata": {},
   "outputs": [],
   "source": [
    "# ReLU activation for hidden layer\n",
    "def relu(x):\n",
    "    return np.maximum(0, x)\n",
    "\n",
    "# Softmax activation for output layer\n",
    "def softmax(x):\n",
    "    c = np.max(x, axis = 0, keepdims = True)\n",
    "    x -= c\n",
    "    e = np.exp(x)\n",
    "    return e / sum(e)\n",
    "\n",
    "# Calculating loss value using cross entropy\n",
    "def floss(yCal, yLabel):\n",
    "    result = -np.sum(np.log(yCal) * yLabel) / batchSize\n",
    "    return result"
   ]
  },
  {
   "cell_type": "code",
   "execution_count": 63,
   "metadata": {},
   "outputs": [
    {
     "name": "stdout",
     "output_type": "stream",
     "text": [
      "[Iter 0] Loss: 2.3019720946968416\n",
      "[Iter 2] Loss: 2.2967432567937265\n",
      "[Iter 7] Loss: 2.261041045206833\n",
      "[Iter 9] Loss: 2.2192570737106854\n",
      "[Iter 133] Loss: 2.189421644630764\n",
      "[Iter 273] Loss: 2.172549405973304\n",
      "[Iter 286] Loss: 2.1585551972114705\n",
      "[Iter 359] Loss: 2.1356571720989495\n",
      "[Iter 360] Loss: 2.1000154194118266\n",
      "[Iter 397] Loss: 2.0975715746248325\n",
      "[Iter 407] Loss: 2.0783440667594575\n",
      "[Iter 429] Loss: 2.055639752109071\n",
      "[Iter 447] Loss: 2.0502618646580952\n",
      "[Iter 448] Loss: 2.0483972582901937\n",
      "[Iter 453] Loss: 2.045354550947013\n",
      "[Iter 461] Loss: 2.0381022787152863\n",
      "[Iter 462] Loss: 2.027288531007217\n",
      "[Iter 467] Loss: 2.0272190265351147\n",
      "[Iter 469] Loss: 2.026723818578662\n",
      "[Iter 471] Loss: 2.009725145066069\n",
      "[Iter 475] Loss: 1.9791240911007508\n",
      "[Iter 485] Loss: 1.978566597082701\n",
      "[Iter 487] Loss: 1.967012177072063\n",
      "[Iter 492] Loss: 1.9561647137122815\n",
      "[Iter 497] Loss: 1.9252220125286983\n",
      "[Iter 500] Loss: 1.8527615578503571\n",
      "[Iter 512] Loss: 1.8515481201668769\n",
      "[Iter 522] Loss: 1.8356696696562622\n",
      "[Iter 544] Loss: 1.8136624730550899\n",
      "[Iter 546] Loss: 1.7972943926409364\n",
      "[Iter 554] Loss: 1.7900229130344607\n",
      "[Iter 563] Loss: 1.785963177729726\n",
      "[Iter 566] Loss: 1.7684286919941896\n",
      "[Iter 575] Loss: 1.7236853004531594\n",
      "[Iter 579] Loss: 1.7236130026648384\n",
      "[Iter 588] Loss: 1.6498242743764093\n",
      "[Iter 607] Loss: 1.6020552219189759\n",
      "[Iter 632] Loss: 1.596354138695321\n",
      "[Iter 637] Loss: 1.5830025565305959\n",
      "[Iter 643] Loss: 1.5511051413545756\n",
      "[Iter 645] Loss: 1.5265180594425956\n",
      "[Iter 653] Loss: 1.4858781285000362\n",
      "[Iter 660] Loss: 1.4840739420131737\n",
      "[Iter 672] Loss: 1.4832414804534542\n",
      "[Iter 677] Loss: 1.458076218028807\n",
      "[Iter 681] Loss: 1.4474407047602391\n",
      "[Iter 686] Loss: 1.4451318544679344\n",
      "[Iter 688] Loss: 1.444071251864047\n",
      "[Iter 700] Loss: 1.413386277487234\n",
      "[Iter 707] Loss: 1.3817603756800287\n",
      "[Iter 716] Loss: 1.3451214074459017\n",
      "[Iter 726] Loss: 1.290534208881329\n",
      "[Iter 730] Loss: 1.2152844854496179\n",
      "[Iter 738] Loss: 1.2116698833562298\n",
      "[Iter 753] Loss: 1.1797341795264273\n",
      "[Iter 777] Loss: 1.1529108674002735\n",
      "[Iter 795] Loss: 1.1224801614588067\n",
      "[Iter 802] Loss: 1.0711772886527446\n",
      "[Iter 824] Loss: 1.063792656479718\n",
      "[Iter 834] Loss: 1.0407198305769472\n",
      "[Iter 856] Loss: 1.0400093670311348\n",
      "[Iter 871] Loss: 0.995077219028463\n",
      "[Iter 901] Loss: 0.891809328505656\n",
      "[Iter 953] Loss: 0.8598539604072489\n",
      "[Iter 997] Loss: 0.8143684426560551\n",
      "[Iter 1083] Loss: 0.7745416295943897\n",
      "[Iter 1100] Loss: 0.7428452764558157\n",
      "[Iter 1109] Loss: 0.6550805458320152\n",
      "[Iter 1166] Loss: 0.6517408992457021\n",
      "[Iter 1195] Loss: 0.6300079769736927\n",
      "[Iter 1210] Loss: 0.5998198395192812\n",
      "[Iter 1221] Loss: 0.5862654266404597\n",
      "[Iter 1246] Loss: 0.5420382577693749\n",
      "[Iter 1381] Loss: 0.5252201644187253\n",
      "[Iter 1384] Loss: 0.5179439976255265\n",
      "[Iter 1388] Loss: 0.5161602631904191\n",
      "[Iter 1398] Loss: 0.4878731935552702\n",
      "[Iter 1430] Loss: 0.46047286280626964\n",
      "[Iter 1491] Loss: 0.3948248272077071\n",
      "[Iter 1514] Loss: 0.391691852358789\n",
      "[Iter 1560] Loss: 0.3662989451992483\n",
      "[Iter 1706] Loss: 0.33298167422828384\n",
      "[Iter 1885] Loss: 0.29799850960633634\n",
      "[Iter 1995] Loss: 0.27809205818069366\n",
      "[Iter 2221] Loss: 0.20027593722387518\n",
      "[Iter 2923] Loss: 0.17139474637232177\n",
      "[Iter 3050] Loss: 0.16498395681218525\n",
      "[Iter 3220] Loss: 0.16179766075003138\n",
      "[Iter 3534] Loss: 0.15624610913393902\n",
      "[Iter 4173] Loss: 0.1543270228753992\n",
      "[Iter 4222] Loss: 0.15170522568818295\n",
      "[Iter 4309] Loss: 0.13369317784029633\n",
      "[Iter 4901] Loss: 0.11697182922952583\n",
      "[Iter 5067] Loss: 0.08747963575803308\n",
      "[Iter 7436] Loss: 0.08304839242509285\n",
      "[Iter 8240] Loss: 0.07843145470877295\n",
      "[Iter 9243] Loss: 0.0685628689588549\n",
      "[Iter 9938] Loss: 0.05487643757565566\n"
     ]
    }
   ],
   "source": [
    "# Initializing weights, biases and eta\n",
    "w1 = 0.01 * np.random.rand(dInput, dHidden)\n",
    "b1 = 0.01 * np.random.rand(dHidden, batchSize)\n",
    "w2 = 0.01 * np.random.rand(dHidden, dOutput)\n",
    "b2 = 0.01 * np.random.rand(dOutput, batchSize)\n",
    "eta = etaInit\n",
    "\n",
    "lossPrev = 1000\n",
    "for n in range(iter + 1):\n",
    "    idxList = np.random.randint(55000, size=batchSize)\n",
    "    # Feed forward\n",
    "    x = imageTrain[idxList].T\n",
    "    z1 = np.dot(w1.T, x) + b1\n",
    "    a1 = relu(z1)\n",
    "    z2 = np.dot(w2.T, a1) + b2\n",
    "    a2 = softmax(z2)\n",
    "    yCal = a2 \n",
    "    yLabel = labelTrain[idxList].T\n",
    "    loss = floss(yCal, yLabel) \n",
    "    if(loss < lossPrev):\n",
    "        lossPrev = loss\n",
    "        w1Res = w1\n",
    "        b1Res = b1\n",
    "        w2Res = w2\n",
    "        b2Res = b2\n",
    "        print(f\"[Iter {n}] Loss: {loss}\")\n",
    "        \n",
    "    # Back propagation\n",
    "    e2 = (yCal - yLabel) / batchSize   # gradient of softmax using cross entropy\n",
    "    dw2 = np.dot(a1, e2.T)\n",
    "    db2 = sum(e2)\n",
    "    e1 = np.dot(w2, e2)\n",
    "    e1[z1 <= 0] = 0                    # gradient of ReLU\n",
    "    dw1 = np.dot(x, e1.T)\n",
    "    db1 = sum(e1)\n",
    "\n",
    "    # Updating weights and biases\n",
    "    w1 += -eta * dw1\n",
    "    b1 += -eta * db1\n",
    "    w2 += -eta * dw2\n",
    "    b2 += -eta * db2\n"
   ]
  },
  {
   "cell_type": "code",
   "execution_count": 74,
   "metadata": {},
   "outputs": [
    {
     "name": "stdout",
     "output_type": "stream",
     "text": [
      "0.9252\n"
     ]
    }
   ],
   "source": [
    "count = 0\n",
    "epoch = 0\n",
    "while epoch < 5000:\n",
    "    idxList = np.arange(epoch, epoch + 50, 1)\n",
    "    x = imageTrain[idxList].T\n",
    "    z1 = np.dot(w1Res.T, x) + b1Res\n",
    "    a1 = relu(z1)\n",
    "    z2 = np.dot(w2Res.T, a1) + b2Res\n",
    "    a2 = softmax(z2)\n",
    "    yLabel = labelTrain[idxList]\n",
    "    prediction = np.argmax(a2.T, axis=1)\n",
    "    answer = np.argmax(yLabel, axis = 1)\n",
    "    for n in range(50):\n",
    "        if(prediction[n] == answer[n]):\n",
    "            count += 1\n",
    "    epoch += 50\n",
    "\n",
    "print(count / 5000)"
   ]
  },
  {
   "cell_type": "code",
   "execution_count": null,
   "metadata": {},
   "outputs": [],
   "source": [
    "count = 0\n",
    "idxList = np.arange(0, 50, 1)\n",
    "x = imageTrain[idxList].T\n",
    "z1 = np.dot(w1Res.T, x) + b1Res\n",
    "a1 = relu(z1)\n",
    "z2 = np.dot(w2Res.T, a1) + b2Res\n",
    "a2 = softmax(z2)\n",
    "yLabel = labelTrain[idxList]\n",
    "prediction = np.argmax(a2.T, axis=1)\n",
    "answer = np.argmax(yLabel, axis = 1)\n",
    "for n in range(50):\n",
    "    if(prediction[n] == answer[n]):\n",
    "        count += 1\n",
    "        \n",
    "print(count / 50)"
   ]
  }
 ],
 "metadata": {
  "kernelspec": {
   "display_name": "Python 3.10.6 ('venv': venv)",
   "language": "python",
   "name": "python3"
  },
  "language_info": {
   "codemirror_mode": {
    "name": "ipython",
    "version": 3
   },
   "file_extension": ".py",
   "mimetype": "text/x-python",
   "name": "python",
   "nbconvert_exporter": "python",
   "pygments_lexer": "ipython3",
   "version": "3.10.6"
  },
  "orig_nbformat": 4,
  "vscode": {
   "interpreter": {
    "hash": "f2ec3a27b206c5c715624a547105f4453c6ed312d93e4b85e955c3b1a3db3dae"
   }
  }
 },
 "nbformat": 4,
 "nbformat_minor": 2
}
