{
 "cells": [
  {
   "cell_type": "code",
   "execution_count": 231,
   "metadata": {},
   "outputs": [],
   "source": [
    "import tensorflow as tf\n",
    "import numpy as np\n",
    "from matplotlib import pyplot\n",
    "from sklearn import preprocessing"
   ]
  },
  {
   "cell_type": "code",
   "execution_count": 232,
   "metadata": {},
   "outputs": [],
   "source": [
    "# Loading the MNIST datasets - 60000 images for training and 10000 images for testing\n",
    "(imageTrainRaw, labelTrainRaw), (imageTestRaw, labelTestRaw) = tf.keras.datasets.mnist.load_data()\n",
    "\n",
    "# Splitting the training set into 2: 55000 images for training and 5000 images for validation\n",
    "imageTestRaw = imageTestRaw[:]\n",
    "labelTestRaw = labelTestRaw[:]\n",
    "imageValidRaw = imageTrainRaw[55000:]\n",
    "labelValidRaw = labelTrainRaw[55000:]\n",
    "imageTrainRaw = imageTrainRaw[:55000]\n",
    "labelTrainRaw = labelTrainRaw[:55000]\n"
   ]
  },
  {
   "cell_type": "code",
   "execution_count": 233,
   "metadata": {},
   "outputs": [
    {
     "data": {
      "image/png": "[encoded data removed]",
      "text/plain": [
       "<Figure size 640x480 with 1 Axes>"
      ]
     },
     "metadata": {},
     "output_type": "display_data"
    }
   ],
   "source": [
    "# Plotting an image\n",
    "def plotImage(idx):\n",
    "    pyplot.title(f\"Digit {labelTrainRaw[idx]}\")\n",
    "    pyplot.imshow(imageTrainRaw[idx], cmap='gray')\n",
    "    pyplot.savefig(\"./test/digitGrey.jpg\")\n",
    "    \n",
    "plotImage(idx = 0)"
   ]
  },
  {
   "cell_type": "code",
   "execution_count": 234,
   "metadata": {},
   "outputs": [],
   "source": [
    "# Preprocessing data (normalizing image arrays and 1-hot encoding label arrays)\n",
    "imageTest = np.reshape(imageTestRaw, (10000, 784))\n",
    "imageTest = preprocessing.normalize(imageTest, norm = \"max\")\n",
    "imageTest = imageTest.T\n",
    "labelTest = tf.keras.utils.to_categorical(labelTestRaw, num_classes=10)\n",
    "labelTest = labelTest.T \n",
    "\n",
    "imageValid = np.reshape(imageValidRaw, (5000, 784))\n",
    "imageValid = preprocessing.normalize(imageValid, norm = \"max\")\n",
    "imageValid = imageValid.T\n",
    "labelValid = tf.keras.utils.to_categorical(labelValidRaw, num_classes=10)\n",
    "labelValid = labelValid.T\n",
    "\n",
    "imageTrain = np.reshape(imageTrainRaw, (55000, 784))\n",
    "imageTrain = preprocessing.normalize(imageTrain, norm=\"max\")\n",
    "labelTrain = tf.keras.utils.to_categorical(labelTrainRaw, num_classes=10)"
   ]
  },
  {
   "cell_type": "code",
   "execution_count": 235,
   "metadata": {},
   "outputs": [],
   "source": [
    "# Setting up the neural network layer dimension and hypermeters \n",
    "iter = 10000   # Number of iterations\n",
    "size = 55000   # Batch size\n",
    "etaInit = 0.1  # Initial learning rate\n",
    "etaDecay = 1   # Learning rate decay\n",
    "dInput = 784   # Input layer (28x28 pixels)\n",
    "dHidden = 196  # Hidden layer (16x16 pixel)\n",
    "dOutput = 10   # Output layer (0-9 digits)"
   ]
  },
  {
   "cell_type": "code",
   "execution_count": 241,
   "metadata": {},
   "outputs": [],
   "source": [
    "# ReLU activation for hidden layer\n",
    "def relu(x):\n",
    "    return np.maximum(0, x)\n",
    "\n",
    "# Softmax activation for output layer\n",
    "def softmax(x):\n",
    "    x -= max(x)\n",
    "    e = np.exp(x)\n",
    "    return e / sum(e)\n",
    "\n",
    "# Calculating loss value using cross entropy\n",
    "def floss(yCal, yLabel):\n",
    "    result = sum(np.log(yCal)[idx] * yLabel[idx] for idx in range(10))\n",
    "    return result"
   ]
  },
  {
   "cell_type": "code",
   "execution_count": 244,
   "metadata": {},
   "outputs": [
    {
     "name": "stdout",
     "output_type": "stream",
     "text": [
      "[Iter 0] Loss: [nan]\n"
     ]
    },
    {
     "name": "stderr",
     "output_type": "stream",
     "text": [
      "C:\\Users\\TheNM\\AppData\\Local\\Temp\\ipykernel_10580\\2109645622.py:13: RuntimeWarning: divide by zero encountered in log\n",
      "  result = sum(np.log(yCal)[idx] * yLabel[idx] for idx in range(10))\n",
      "C:\\Users\\TheNM\\AppData\\Local\\Temp\\ipykernel_10580\\2109645622.py:13: RuntimeWarning: invalid value encountered in multiply\n",
      "  result = sum(np.log(yCal)[idx] * yLabel[idx] for idx in range(10))\n"
     ]
    }
   ],
   "source": [
    "# Initializing weights, biases and eta\n",
    "w1 = np.random.rand(dInput, dHidden)\n",
    "b1 = np.random.rand(dHidden, 1)\n",
    "w2 = np.random.rand(dHidden, dOutput)\n",
    "b2 = np.random.rand(dOutput, 1)\n",
    "eta = etaInit\n",
    "\n",
    "for n in range(3):\n",
    "    # Feed forward\n",
    "    idx = np.random.randint(0, size)\n",
    "    x = imageTrain[idx].reshape(784, 1)\n",
    "    z1 = np.dot(w1.T, x) + b1\n",
    "    a1 = relu(z1)\n",
    "    z2 = np.dot(w2.T, a1) + b2\n",
    "    a2 = softmax(z2)\n",
    "    \n",
    "    yCal = a2 \n",
    "    yLabel = labelTrain[idx].reshape(10, 1)\n",
    "    loss = floss(yCal, yLabel) \n",
    "        \n",
    "    # Back propagation\n",
    "    e2 = (yCal - yLabel)     # gradient of softmax using cross entropy\n",
    "    dw2 = np.dot(a1, e2.T)\n",
    "    db2 = e2\n",
    "    e1 = np.dot(w2, e2)\n",
    "    e1[z1 <= 0] = 0        # gradient of ReLU\n",
    "    dw1 = np.dot(x, e1.T)\n",
    "    db1 = e1\n",
    "\n",
    "    # Updating weights and biases\n",
    "    w1 = w1 - eta * dw1\n",
    "    b1 = b1 - eta * db1\n",
    "    w2 = w2 - eta * dw2\n",
    "    b2 = b2 - eta * db2\n",
    "    \n",
    "    eta = etaInit / (1 + etaDecay * n)\n",
    "    \n",
    "    if(n % 1000 == 0):\n",
    "        print(f\"[Iter {n}] Loss: {loss}\")"
   ]
  }
 ],
 "metadata": {
  "kernelspec": {
   "display_name": "Python 3.10.6 ('venv': venv)",
   "language": "python",
   "name": "python3"
  },
  "language_info": {
   "codemirror_mode": {
    "name": "ipython",
    "version": 3
   },
   "file_extension": ".py",
   "mimetype": "text/x-python",
   "name": "python",
   "nbconvert_exporter": "python",
   "pygments_lexer": "ipython3",
   "version": "3.10.6"
  },
  "orig_nbformat": 4,
  "vscode": {
   "interpreter": {
    "hash": "f2ec3a27b206c5c715624a547105f4453c6ed312d93e4b85e955c3b1a3db3dae"
   }
  }
 },
 "nbformat": 4,
 "nbformat_minor": 2
}
