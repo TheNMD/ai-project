{
 "cells": [
  {
   "cell_type": "code",
   "execution_count": 3,
   "metadata": {},
   "outputs": [],
   "source": [
    "import tensorflow as tf\n",
    "import numpy as np\n",
    "import pandas as pd\n",
    "import matplotlib.pyplot as plt\n",
    "from matplotlib.pyplot import figure"
   ]
  },
  {
   "cell_type": "code",
   "execution_count": 4,
   "metadata": {},
   "outputs": [],
   "source": [
    "# Loading the MNIST datasets\n",
    "# 60000 images for training and 10000 images for testing\n",
    "(image_train, label_train), (image_test, label_test) = tf.keras.datasets.mnist.load_data()\n",
    "# Splitting the training set into 2: 55000 images for training and 5000 images for validation\n",
    "image_valid = image_train[55000:]\n",
    "label_valid = label_train[55000:]\n",
    "image_train = image_train[:55000]\n",
    "label_train = label_train[:55000]"
   ]
  },
  {
   "cell_type": "code",
   "execution_count": 39,
   "metadata": {},
   "outputs": [
    {
     "ename": "TypeError",
     "evalue": "'str' object is not callable",
     "output_type": "error",
     "traceback": [
      "\u001b[1;31m---------------------------------------------------------------------------\u001b[0m",
      "\u001b[1;31mTypeError\u001b[0m                                 Traceback (most recent call last)",
      "Cell \u001b[1;32mIn [39], line 4\u001b[0m\n\u001b[0;32m      2\u001b[0m \u001b[38;5;28;01mfor\u001b[39;00m row \u001b[38;5;129;01min\u001b[39;00m image_train[idx]:\n\u001b[0;32m      3\u001b[0m     \u001b[38;5;28;01mfor\u001b[39;00m col \u001b[38;5;129;01min\u001b[39;00m row:\n\u001b[1;32m----> 4\u001b[0m         \u001b[38;5;28;01mif\u001b[39;00m(\u001b[38;5;28mlen\u001b[39m(\u001b[38;5;28;43mstr\u001b[39;49m\u001b[43m(\u001b[49m\u001b[43mcol\u001b[49m\u001b[43m)\u001b[49m) \u001b[38;5;241m==\u001b[39m \u001b[38;5;241m1\u001b[39m):\n\u001b[0;32m      5\u001b[0m             \u001b[38;5;28mprint\u001b[39m(\u001b[38;5;28mstr\u001b[39m(col) \u001b[38;5;241m+\u001b[39m \u001b[38;5;124m\"\u001b[39m\u001b[38;5;124m   \u001b[39m\u001b[38;5;124m\"\u001b[39m, end \u001b[38;5;241m=\u001b[39m\u001b[38;5;124m\"\u001b[39m\u001b[38;5;124m \u001b[39m\u001b[38;5;124m\"\u001b[39m)\n\u001b[0;32m      6\u001b[0m         \u001b[38;5;28;01melif\u001b[39;00m(\u001b[38;5;28mlen\u001b[39m(\u001b[38;5;28mstr\u001b[39m(col)) \u001b[38;5;241m==\u001b[39m \u001b[38;5;241m2\u001b[39m):\n",
      "\u001b[1;31mTypeError\u001b[0m: 'str' object is not callable"
     ]
    }
   ],
   "source": [
    "idx = 0\n",
    "for row in image_train[idx]:\n",
    "    for col in row:\n",
    "        if(len(str(col)) == 1):\n",
    "            print(str(col) + \"   \", end =\" \")\n",
    "        elif(len(str(col)) == 2):\n",
    "            print(str(col) + \"  \", end =\" \")\n",
    "        else:\n",
    "            print(str(col) + \" \", end =\" \")\n",
    "    print()"
   ]
  },
  {
   "cell_type": "code",
   "execution_count": 6,
   "metadata": {},
   "outputs": [
    {
     "data": {
      "image/png": "[encoded data removed]",
      "text/plain": [
       "<Figure size 640x480 with 1 Axes>"
      ]
     },
     "metadata": {},
     "output_type": "display_data"
    }
   ],
   "source": [
    "# Plotting a digit image\n",
    "idx = 53\n",
    "plt.title(f\"Digit {label_train[idx]}\")\n",
    "# Gray image\n",
    "plt.imshow(image_train[idx], cmap='gray')\n",
    "plt.savefig(\"./test/digit_grey.jpg\")\n",
    "# Black white\n",
    "# plt.imshow(image_train[idx], cmap='binary') \n",
    "# plt.savefig(\"./test/digit_bw.jpg\")"
   ]
  },
  {
   "cell_type": "code",
   "execution_count": 7,
   "metadata": {},
   "outputs": [],
   "source": [
    "# Setting up the neural network architecture and hyperparameters\n",
    "input_layer = 784  # input layer (28x28 pixels)\n",
    "hidden_layer1 = 512  # 1st hidden layer (14x14 pixel)\n",
    "hidden_layer2 = 256  # 2nd hidden layer\n",
    "hidden_layer3 = 128  # 3rd hidden layer\n",
    "output_layer = 10  # output layer (0-9 digits)\n",
    "\n",
    "learning_rate = 1e-4\n",
    "n_iterations = 1000\n",
    "batch_size = 128\n",
    "dropout = 0.5"
   ]
  }
 ],
 "metadata": {
  "kernelspec": {
   "display_name": "Python 3.10.6 ('venv': venv)",
   "language": "python",
   "name": "python3"
  },
  "language_info": {
   "codemirror_mode": {
    "name": "ipython",
    "version": 3
   },
   "file_extension": ".py",
   "mimetype": "text/x-python",
   "name": "python",
   "nbconvert_exporter": "python",
   "pygments_lexer": "ipython3",
   "version": "3.10.6"
  },
  "orig_nbformat": 4,
  "vscode": {
   "interpreter": {
    "hash": "f2ec3a27b206c5c715624a547105f4453c6ed312d93e4b85e955c3b1a3db3dae"
   }
  }
 },
 "nbformat": 4,
 "nbformat_minor": 2
}
