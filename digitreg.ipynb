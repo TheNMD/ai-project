{
 "cells": [
  {
   "cell_type": "code",
   "execution_count": 51,
   "metadata": {},
   "outputs": [],
   "source": [
    "import tensorflow as tf\n",
    "import numpy as np\n",
    "import pandas as pd\n",
    "import matplotlib.pyplot as plt\n",
    "from matplotlib.pyplot import figure"
   ]
  },
  {
   "cell_type": "code",
   "execution_count": 57,
   "metadata": {},
   "outputs": [
    {
     "name": "stdout",
     "output_type": "stream",
     "text": [
      "55000\n"
     ]
    }
   ],
   "source": [
    "# Loading the MNIST datasets\n",
    "# 60000 images for training and 10000 images for testing\n",
    "(image_train, label_train), (image_test, label_test) = tf.keras.datasets.mnist.load_data()\n",
    "# Splitting the training set into 2: 55000 images for training and 5000 images for validation\n",
    "image_valid = image_train[55000:]\n",
    "label_valid = label_train[55000:]\n",
    "image_train = image_train[:55000]\n",
    "label_train = label_train[:55000]"
   ]
  },
  {
   "cell_type": "code",
   "execution_count": 54,
   "metadata": {},
   "outputs": [
    {
     "data": {
      "image/png": "[encoded data removed]",
      "text/plain": [
       "<Figure size 640x480 with 1 Axes>"
      ]
     },
     "metadata": {},
     "output_type": "display_data"
    }
   ],
   "source": [
    "# Plotting a digit image\n",
    "idx = 53\n",
    "plt.title(f\"Digit {label_train[idx]}\")\n",
    "# Gray image\n",
    "plt.imshow(image_train[idx], cmap='gray')\n",
    "plt.savefig(\"./test/digit_grey.jpg\")\n",
    "# Black white\n",
    "# plt.imshow(image_train[idx], cmap='binary') \n",
    "# plt.savefig(\"./test/digit_bw.jpg\")"
   ]
  },
  {
   "cell_type": "code",
   "execution_count": null,
   "metadata": {},
   "outputs": [],
   "source": [
    "# Setting up the neural network architecture and hyperparameters\n",
    "input_layer = 784  # input layer (28x28 pixels)\n",
    "hidden_layer1 = 512  # 1st hidden layer (14x14 pixel)\n",
    "hidden_layer2 = 256  # 2nd hidden layer\n",
    "hidden_layer3 = 128  # 3rd hidden layer\n",
    "output_layer = 10  # output layer (0-9 digits)\n",
    "\n",
    "learning_rate = 1e-4\n",
    "n_iterations = 1000\n",
    "batch_size = 128\n",
    "dropout = 0.5"
   ]
  }
 ],
 "metadata": {
  "kernelspec": {
   "display_name": "Python 3.10.6 ('venv': venv)",
   "language": "python",
   "name": "python3"
  },
  "language_info": {
   "codemirror_mode": {
    "name": "ipython",
    "version": 3
   },
   "file_extension": ".py",
   "mimetype": "text/x-python",
   "name": "python",
   "nbconvert_exporter": "python",
   "pygments_lexer": "ipython3",
   "version": "3.10.6"
  },
  "orig_nbformat": 4,
  "vscode": {
   "interpreter": {
    "hash": "f2ec3a27b206c5c715624a547105f4453c6ed312d93e4b85e955c3b1a3db3dae"
   }
  }
 },
 "nbformat": 4,
 "nbformat_minor": 2
}
