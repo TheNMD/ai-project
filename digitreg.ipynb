{
 "cells": [
  {
   "cell_type": "code",
   "execution_count": 44,
   "metadata": {},
   "outputs": [],
   "source": [
    "import tensorflow as tf\n",
    "import numpy as np\n",
    "from matplotlib import pyplot\n",
    "from sklearn import preprocessing"
   ]
  },
  {
   "cell_type": "code",
   "execution_count": 45,
   "metadata": {},
   "outputs": [],
   "source": [
    "# Loading the MNIST datasets - 60000 images for training and 10000 images for testing\n",
    "(imageTrainRaw, labelTrainRaw), (imageTestRaw, labelTestRaw) = tf.keras.datasets.mnist.load_data()\n",
    "\n",
    "# Splitting the training set into 2: 55000 images for training and 5000 images for validation\n",
    "imageTestRaw = imageTestRaw[:]\n",
    "labelTestRaw = labelTestRaw[:]\n",
    "sizeTest = 10000\n",
    "\n",
    "imageValidRaw = imageTrainRaw[55000:]\n",
    "labelValidRaw = labelTrainRaw[55000:]\n",
    "sizeValid = 5000\n",
    "\n",
    "imageTrainRaw = imageTrainRaw[:55000]\n",
    "labelTrainRaw = labelTrainRaw[:55000]\n",
    "sizeTrain = 55000"
   ]
  },
  {
   "cell_type": "code",
   "execution_count": 46,
   "metadata": {},
   "outputs": [
    {
     "data": {
      "image/png": "[encoded data removed]",
      "text/plain": [
       "<Figure size 640x480 with 1 Axes>"
      ]
     },
     "metadata": {},
     "output_type": "display_data"
    }
   ],
   "source": [
    "# Visualizing data\n",
    "# Printing an array\n",
    "def printArr(idx):\n",
    "    to_write = \"\"\n",
    "    for i in range(28):\n",
    "        for j in range(28):\n",
    "            if(len(str(imageTrainRaw[idx][i][j])) == 1):\n",
    "                to_write += str(imageTrainRaw[idx][i][j]) + \"    \"\n",
    "            elif(len(str(imageTrainRaw[idx][i][j])) == 2):\n",
    "                to_write += str(imageTrainRaw[idx][i][j]) + \"   \"\n",
    "            else:\n",
    "                to_write += str(imageTrainRaw[idx][i][j]) + \"  \"\n",
    "        to_write += \"\\n\"\n",
    "    to_write += f\"\\nDigit: {labelTrainRaw[idx]}\"\n",
    "    with open(\"./test/imageArr.txt\", \"w\") as file:\n",
    "        file.write(to_write)\n",
    "        \n",
    "# Plotting an image\n",
    "def plotImage(idx):\n",
    "    pyplot.title(f\"Digit {labelTrainRaw[idx]}\")\n",
    "    pyplot.imshow(imageTrainRaw[idx], cmap='gray')\n",
    "    pyplot.savefig(\"./test/digitGrey.jpg\")\n",
    "\n",
    "idx = 7\n",
    "printArr(idx)\n",
    "plotImage(idx)"
   ]
  },
  {
   "cell_type": "code",
   "execution_count": 47,
   "metadata": {},
   "outputs": [],
   "source": [
    "# Preprocessing data (normalizing image arrays and 1-hot encoding label arrays)\n",
    "imageTest = imageTestRaw / 255\n",
    "labelTest = tf.keras.utils.to_categorical(labelTestRaw, num_classes=10)\n",
    "\n",
    "imageValid = imageValidRaw / 255\n",
    "labelValid = tf.keras.utils.to_categorical(labelValidRaw, num_classes=10)\n",
    "\n",
    "imageTrain = imageTrainRaw / 255\n",
    "labelTrain = tf.keras.utils.to_categorical(labelTrainRaw, num_classes=10)"
   ]
  },
  {
   "cell_type": "code",
   "execution_count": 48,
   "metadata": {},
   "outputs": [],
   "source": [
    "# Setting up the neural network layer dimension and hypermeters \n",
    "batchSize = 1       # Batch size to perform GD\n",
    "iter = 20000        # Number of iterations\n",
    "eta = 0.05          # Initial learning rate\n",
    "stride = 1          # Stride for convolution layer\n",
    "padding = 0         # Padding for convolution layer\n",
    "inputDim = 28       # Dimension of input layer = 28 x 28\n",
    "kernelNum = 5       # Number of kernels (filters)\n",
    "kernelDim = 3       # Dimension of kernel = 3 x 3\n",
    "featureDim = 26     # Dimension of feature map = inputDim + 2 * padding - kernelDim) / stride + 1 \n",
    "hiddenDim = 20     # Dimension of hidden layer = 20 x 20\n",
    "outputDim = 10      # Dimension of output layer = 10 x 1\n",
    "sizeTest = 10000    # Size of test set\n",
    "sizeValid = 5000    # Size of validation set\n",
    "sizeTrain = 55000   # Size of training set"
   ]
  },
  {
   "cell_type": "code",
   "execution_count": 61,
   "metadata": {},
   "outputs": [
    {
     "ename": "NameError",
     "evalue": "name 'yCall' is not defined",
     "output_type": "error",
     "traceback": [
      "\u001b[1;31m---------------------------------------------------------------------------\u001b[0m",
      "\u001b[1;31mNameError\u001b[0m                                 Traceback (most recent call last)",
      "Cell \u001b[1;32mIn [61], line 95\u001b[0m\n\u001b[0;32m     91\u001b[0m         file\u001b[38;5;241m.\u001b[39mwrite(to_write)\n\u001b[0;32m     93\u001b[0m     \u001b[38;5;28;01mreturn\u001b[39;00m (w1Res, b1Res, w2Res, b2Res, lossList)\n\u001b[1;32m---> 95\u001b[0m (mini_w1Res, mini_b1Res, mini_w2Res, mini_b2Res, miniLoss) \u001b[38;5;241m=\u001b[39m \u001b[43mtrain\u001b[49m\u001b[43m(\u001b[49m\u001b[43mbatchSize\u001b[49m\u001b[38;5;241;43m=\u001b[39;49m\u001b[38;5;241;43m1\u001b[39;49m\u001b[43m,\u001b[49m\u001b[43m \u001b[49m\u001b[38;5;28;43miter\u001b[39;49m\u001b[38;5;241;43m=\u001b[39;49m\u001b[38;5;241;43m1\u001b[39;49m\u001b[43m,\u001b[49m\u001b[43m \u001b[49m\u001b[43meta\u001b[49m\u001b[38;5;241;43m=\u001b[39;49m\u001b[38;5;241;43m0.05\u001b[39;49m\u001b[43m,\u001b[49m\u001b[43m \u001b[49m\u001b[43mfilename\u001b[49m\u001b[38;5;241;43m=\u001b[39;49m\u001b[38;5;124;43m\"\u001b[39;49m\u001b[38;5;124;43mminiLoss\u001b[39;49m\u001b[38;5;124;43m\"\u001b[39;49m\u001b[43m)\u001b[49m\n",
      "Cell \u001b[1;32mIn [61], line 59\u001b[0m, in \u001b[0;36mtrain\u001b[1;34m(batchSize, iter, eta, filename)\u001b[0m\n\u001b[0;32m     56\u001b[0m a2 \u001b[38;5;241m=\u001b[39m softmax(z2)\n\u001b[0;32m     58\u001b[0m yCal \u001b[38;5;241m=\u001b[39m a2 \n\u001b[1;32m---> 59\u001b[0m \u001b[38;5;28mprint\u001b[39m(\u001b[43myCall\u001b[49m)\n\u001b[0;32m     60\u001b[0m yLabel \u001b[38;5;241m=\u001b[39m labelTrain[idxList]\u001b[38;5;241m.\u001b[39mT\n\u001b[0;32m     61\u001b[0m loss \u001b[38;5;241m=\u001b[39m flossCE(yCal, yLabel, batchSize) \n",
      "\u001b[1;31mNameError\u001b[0m: name 'yCall' is not defined"
     ]
    }
   ],
   "source": [
    "def convolutionFF(x, k):\n",
    "    result = np.zeros((kernelNum, featureDim, featureDim))\n",
    "    \n",
    "    for n in range(kernelNum):\n",
    "        for i in range(featureDim):\n",
    "            for j in range(featureDim):\n",
    "                x_temp = x[i : i + kernelDim, j : j + kernelDim]\n",
    "                result[n, i, j] = np.sum(np.multiply(k[n], x_temp))\n",
    "    return result\n",
    "\n",
    "# def convolutionBP(self, x, kernel):\n",
    "#     result = np.zeros((1, self.kernelDim, self.kernelDim))\n",
    "#     for n in range(1):\n",
    "#         for i in range(self.kernelDim):\n",
    "#             for j in range(self.kernelDim):\n",
    "#                 result[n, i, j] = np.sum(np.multiply(kernel[n], x[i : i + self.featureDim, j : j + self.featureDim]))\n",
    "#     return result.reshape(3, 3)\n",
    "\n",
    "# ReLU activation for hidden layer\n",
    "def relu(x):\n",
    "    return np.maximum(0, x)\n",
    "\n",
    "# Softmax activation for output layer\n",
    "def softmax(x):\n",
    "    c = np.max(x, axis = 0, keepdims=True)\n",
    "    x -= c\n",
    "    e = np.exp(x)\n",
    "    return e / np.sum(e, axis = 0, keepdims=True)\n",
    "\n",
    "# Calculating loss value using cross entropy\n",
    "def flossCE(yCal, yLabel, batchSize):\n",
    "    result = -np.sum(np.log(yCal) * yLabel) / batchSize\n",
    "    return result\n",
    "\n",
    "def train(batchSize, iter, eta, filename):\n",
    "    # Initializing kernels, weights, biases and eta\n",
    "    k =  0.01 * np.random.rand( kernelNum, kernelDim, kernelDim)\n",
    "    w1 = 0.01 * np.random.rand(kernelNum * featureDim**2, hiddenDim**2)\n",
    "    b1 = 0.01 * np.random.rand(hiddenDim**2, batchSize)\n",
    "    w2 = 0.01 * np.random.rand(hiddenDim**2, outputDim)\n",
    "    b2 = 0.01 * np.random.rand(outputDim, batchSize)\n",
    "\n",
    "    lossList = []\n",
    "    lossPrev = 100000\n",
    "    to_write = \"\"\n",
    "    \n",
    "    for n in range(iter + 1):\n",
    "        idxList = np.random.randint(0, sizeTrain)\n",
    "        \n",
    "        # Feedforward\n",
    "        x = imageTrain[idxList].T\n",
    "        v = convolutionFF(x, k).reshape(kernelNum * featureDim**2, batchSize)\n",
    "        z1 = np.dot(w1.T, v) + b1\n",
    "        a1 = relu(z1)\n",
    "        z2 = np.dot(w2.T, a1) + b2\n",
    "        a2 = softmax(z2)\n",
    "        \n",
    "        yCal = a2 \n",
    "        print(yCal)\n",
    "        yLabel = labelTrain[idxList].T\n",
    "        loss = flossCE(yCal, yLabel, batchSize) \n",
    "        \n",
    "        if(loss < lossPrev):\n",
    "            lossPrev = loss\n",
    "            w1Res = w1\n",
    "            b1Res = b1\n",
    "            w2Res = w2\n",
    "            b2Res = b2\n",
    "            # print(f\"[Iter {n}] Loss: {loss}\")\n",
    "            to_write += f\"[Iter {n}] Loss: {loss}\\n\"\n",
    "            \n",
    "        # Backpropagation\n",
    "        e2 = (yCal - yLabel) / batchSize # gradient of softmax using cross entropy\n",
    "        dw2 = np.dot(a1, e2.T)\n",
    "        db2 = np.sum(e2, axis = 1, keepdims=True)\n",
    "        e1 = np.dot(w2, e2)\n",
    "        e1[z1 <= 0] = 0 # gradient of ReLU\n",
    "        dw1 = np.dot(x, e1.T)\n",
    "        db1 = np.sum(e1, axis = 1, keepdims=True)\n",
    "\n",
    "        # Updating weights and biases\n",
    "        w1 += -eta * dw1\n",
    "        b1 += -eta * db1\n",
    "        w2 += -eta * dw2\n",
    "        b2 += -eta * db2\n",
    "        \n",
    "        if(n % 50 == 0):\n",
    "            lossList.append(loss)\n",
    "    \n",
    "    with open(f\"./test/{filename}.txt\", \"w\") as file:\n",
    "        file.write(to_write)\n",
    "        \n",
    "    return (w1Res, b1Res, w2Res, b2Res, lossList)\n",
    "\n",
    "(mini_w1Res, mini_b1Res, mini_w2Res, mini_b2Res, miniLoss) = train(batchSize=1, iter=1, eta=0.05, filename=\"miniLoss\")"
   ]
  },
  {
   "cell_type": "code",
   "execution_count": null,
   "metadata": {},
   "outputs": [],
   "source": [
    "def checkValid(w1Res, b1Res, w2Res, b2Res, batchSize):\n",
    "    if(batchSize > sizeValid):\n",
    "        batchSize = sizeValid\n",
    "    count = 0\n",
    "    batch = 0\n",
    "    while batch < sizeValid:\n",
    "        idxList = np.arange(batch, batch + batchSize, 1)\n",
    "        x = imageValid[idxList].T\n",
    "        z1 = np.dot(w1Res.T, x) + b1Res\n",
    "        a1 = relu(z1)\n",
    "        z2 = np.dot(w2Res.T, a1) + b2Res\n",
    "        a2 = softmax(z2)\n",
    "        yLabel = labelValid[idxList]\n",
    "        prediction = np.argmax(a2.T, axis=1)\n",
    "        answer = np.argmax(yLabel, axis=1)\n",
    "        for n in range(batchSize):\n",
    "            if(prediction[n] == answer[n]):\n",
    "                count += 1\n",
    "        batch += batchSize\n",
    "    return count / sizeValid\n",
    "    \n",
    "def checkTest(w1Res, b1Res, w2Res, b2Res, batchSize):\n",
    "    if(batchSize > sizeTest):\n",
    "        batchSize = sizeTest\n",
    "    count = 0\n",
    "    batch = 0\n",
    "    while batch < sizeTest:\n",
    "        idxList = np.arange(batch, batch + batchSize, 1)\n",
    "        x = imageTest[idxList].T\n",
    "        z1 = np.dot(w1Res.T, x) + b1Res\n",
    "        a1 = relu(z1)\n",
    "        z2 = np.dot(w2Res.T, a1) + b2Res\n",
    "        a2 = softmax(z2)\n",
    "        yLabel = labelTest[idxList]\n",
    "        prediction = np.argmax(a2.T, axis=1)\n",
    "        answer = np.argmax(yLabel, axis=1)\n",
    "        for n in range(batchSize):\n",
    "            if(prediction[n] == answer[n]):\n",
    "                count += 1\n",
    "        batch += batchSize\n",
    "    return count / sizeTest"
   ]
  },
  {
   "cell_type": "code",
   "execution_count": null,
   "metadata": {},
   "outputs": [
    {
     "ename": "IndexError",
     "evalue": "index 3 is out of bounds for axis 2 with size 3",
     "output_type": "error",
     "traceback": [
      "\u001b[1;31m---------------------------------------------------------------------------\u001b[0m",
      "\u001b[1;31mIndexError\u001b[0m                                Traceback (most recent call last)",
      "Cell \u001b[1;32mIn [19], line 2\u001b[0m\n\u001b[0;32m      1\u001b[0m \u001b[38;5;66;03m# Mini BGD with batch size = 50\u001b[39;00m\n\u001b[1;32m----> 2\u001b[0m (mini_w1Res, mini_b1Res, mini_w2Res, mini_b2Res, miniLoss) \u001b[38;5;241m=\u001b[39m \u001b[43mtrain\u001b[49m\u001b[43m(\u001b[49m\u001b[43mbatchSize\u001b[49m\u001b[38;5;241;43m=\u001b[39;49m\u001b[38;5;241;43m1\u001b[39;49m\u001b[43m,\u001b[49m\u001b[43m \u001b[49m\u001b[38;5;28;43miter\u001b[39;49m\u001b[38;5;241;43m=\u001b[39;49m\u001b[38;5;241;43m1\u001b[39;49m\u001b[43m,\u001b[49m\u001b[43m \u001b[49m\u001b[43meta\u001b[49m\u001b[38;5;241;43m=\u001b[39;49m\u001b[38;5;241;43m0.05\u001b[39;49m\u001b[43m,\u001b[49m\u001b[43m \u001b[49m\u001b[43mfilename\u001b[49m\u001b[38;5;241;43m=\u001b[39;49m\u001b[38;5;124;43m\"\u001b[39;49m\u001b[38;5;124;43mminiLoss\u001b[39;49m\u001b[38;5;124;43m\"\u001b[39;49m\u001b[43m)\u001b[49m\n\u001b[0;32m      3\u001b[0m \u001b[38;5;66;03m# resultValid = checkValid(mini_w1Res, mini_b1Res, mini_w2Res, mini_b2Res, batchSize=50)\u001b[39;00m\n\u001b[0;32m      4\u001b[0m \u001b[38;5;66;03m# print(f\"Testing on validation set: {100 * resultValid}%\")\u001b[39;00m\n\u001b[0;32m      5\u001b[0m \u001b[38;5;66;03m# resultTest = checkTest(mini_w1Res, mini_b1Res, mini_w2Res, mini_b2Res, batchSize=50)\u001b[39;00m\n\u001b[0;32m      6\u001b[0m \u001b[38;5;66;03m# print(f\"Testing on testing set: {100 * resultTest}%\")\u001b[39;00m\n\u001b[0;32m      8\u001b[0m pyplot\u001b[38;5;241m.\u001b[39mplot(miniLoss)\n",
      "Cell \u001b[1;32mIn [18], line 52\u001b[0m, in \u001b[0;36mtrain\u001b[1;34m(batchSize, iter, eta, filename)\u001b[0m\n\u001b[0;32m     50\u001b[0m \u001b[38;5;66;03m# Feedforward\u001b[39;00m\n\u001b[0;32m     51\u001b[0m x \u001b[38;5;241m=\u001b[39m imageTrain[idxList]\u001b[38;5;241m.\u001b[39mT\n\u001b[1;32m---> 52\u001b[0m v \u001b[38;5;241m=\u001b[39m \u001b[43mconvolutionFF\u001b[49m\u001b[43m(\u001b[49m\u001b[43mx\u001b[49m\u001b[43m,\u001b[49m\u001b[43m \u001b[49m\u001b[43mk\u001b[49m\u001b[43m)\u001b[49m\n\u001b[0;32m     53\u001b[0m x \u001b[38;5;241m=\u001b[39m imageTrain[idxList]\u001b[38;5;241m.\u001b[39mT\n\u001b[0;32m     54\u001b[0m z1 \u001b[38;5;241m=\u001b[39m np\u001b[38;5;241m.\u001b[39mdot(w1\u001b[38;5;241m.\u001b[39mT, x) \u001b[38;5;241m+\u001b[39m b1\n",
      "Cell \u001b[1;32mIn [18], line 7\u001b[0m, in \u001b[0;36mconvolutionFF\u001b[1;34m(x, k)\u001b[0m\n\u001b[0;32m      5\u001b[0m     \u001b[38;5;28;01mfor\u001b[39;00m i \u001b[38;5;129;01min\u001b[39;00m \u001b[38;5;28mrange\u001b[39m(featureDim):\n\u001b[0;32m      6\u001b[0m         \u001b[38;5;28;01mfor\u001b[39;00m j \u001b[38;5;129;01min\u001b[39;00m \u001b[38;5;28mrange\u001b[39m(featureDim):\n\u001b[1;32m----> 7\u001b[0m             \u001b[43mresult\u001b[49m\u001b[43m[\u001b[49m\u001b[43mn\u001b[49m\u001b[43m,\u001b[49m\u001b[43m \u001b[49m\u001b[43mi\u001b[49m\u001b[43m,\u001b[49m\u001b[43m \u001b[49m\u001b[43mj\u001b[49m\u001b[43m]\u001b[49m \u001b[38;5;241m=\u001b[39m np\u001b[38;5;241m.\u001b[39msum(np\u001b[38;5;241m.\u001b[39mmultiply(k[n], x[i : i \u001b[38;5;241m+\u001b[39m kernelDim, j : j \u001b[38;5;241m+\u001b[39m kernelDim]))\n\u001b[0;32m      8\u001b[0m \u001b[38;5;28mprint\u001b[39m(result)\n\u001b[0;32m      9\u001b[0m \u001b[38;5;28;01mreturn\u001b[39;00m result\n",
      "\u001b[1;31mIndexError\u001b[0m: index 3 is out of bounds for axis 2 with size 3"
     ]
    }
   ],
   "source": [
    "# Mini BGD with batch size = 50\n",
    "(mini_w1Res, mini_b1Res, mini_w2Res, mini_b2Res, miniLoss) = train(batchSize=1, iter=1, eta=0.05, filename=\"miniLoss\")\n",
    "# resultValid = checkValid(mini_w1Res, mini_b1Res, mini_w2Res, mini_b2Res, batchSize=50)\n",
    "# print(f\"Testing on validation set: {100 * resultValid}%\")\n",
    "# resultTest = checkTest(mini_w1Res, mini_b1Res, mini_w2Res, mini_b2Res, batchSize=50)\n",
    "# print(f\"Testing on testing set: {100 * resultTest}%\")\n",
    "\n",
    "pyplot.plot(miniLoss)\n",
    "# pyplot.plot(miniLoss2)\n",
    "pyplot.show() "
   ]
  }
 ],
 "metadata": {
  "kernelspec": {
   "display_name": "Python 3.10.6 ('venv': venv)",
   "language": "python",
   "name": "python3"
  },
  "language_info": {
   "codemirror_mode": {
    "name": "ipython",
    "version": 3
   },
   "file_extension": ".py",
   "mimetype": "text/x-python",
   "name": "python",
   "nbconvert_exporter": "python",
   "pygments_lexer": "ipython3",
   "version": "3.10.6"
  },
  "orig_nbformat": 4,
  "vscode": {
   "interpreter": {
    "hash": "f2ec3a27b206c5c715624a547105f4453c6ed312d93e4b85e955c3b1a3db3dae"
   }
  }
 },
 "nbformat": 4,
 "nbformat_minor": 2
}
