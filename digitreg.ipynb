{
 "cells": [
  {
   "cell_type": "code",
   "execution_count": 25,
   "metadata": {},
   "outputs": [],
   "source": [
    "import tensorflow as tf\n",
    "import numpy as np\n",
    "from matplotlib import pyplot\n",
    "from sklearn import preprocessing"
   ]
  },
  {
   "cell_type": "code",
   "execution_count": 26,
   "metadata": {},
   "outputs": [],
   "source": [
    "# Loading the MNIST datasets - 60000 images for training and 10000 images for testing\n",
    "(imageTrainRaw, labelTrainRaw), (imageTestRaw, labelTestRaw) = tf.keras.datasets.mnist.load_data()\n",
    "\n",
    "# Splitting the training set into 2: 55000 images for training and 5000 images for validation\n",
    "imageTestRaw = imageTestRaw[:]\n",
    "labelTestRaw = labelTestRaw[:]\n",
    "imageValidRaw = imageTrainRaw[55000:]\n",
    "labelValidRaw = labelTrainRaw[55000:]\n",
    "imageTrainRaw = imageTrainRaw[:55000]\n",
    "labelTrainRaw = labelTrainRaw[:55000]\n",
    "\n",
    "def printArr(idx):\n",
    "    to_write = \"\"\n",
    "    for i in range(28):\n",
    "        for j in range(28):\n",
    "            if(len(str(imageTrainRaw[idx][i][j])) == 1):\n",
    "                to_write += str(imageTrainRaw[idx][i][j]) + \"    \"\n",
    "            elif(len(str(imageTrainRaw[idx][i][j])) == 2):\n",
    "                to_write += str(imageTrainRaw[idx][i][j]) + \"   \"\n",
    "            else:\n",
    "                to_write += str(imageTrainRaw[idx][i][j]) + \"  \"\n",
    "        to_write += \"\\n\"\n",
    "    to_write += f\"\\nDigit: {labelTrainRaw[idx]}\"\n",
    "    with open(\"./test/imageArr.txt\", \"w\") as file:\n",
    "        file.write(to_write)\n",
    "\n",
    "printArr(idx = 7)"
   ]
  },
  {
   "cell_type": "code",
   "execution_count": 27,
   "metadata": {},
   "outputs": [
    {
     "data": {
      "image/png": "[encoded data removed]",
      "text/plain": [
       "<Figure size 640x480 with 1 Axes>"
      ]
     },
     "metadata": {},
     "output_type": "display_data"
    }
   ],
   "source": [
    "# Plotting an image\n",
    "def plotImage(idx):\n",
    "    pyplot.title(f\"Digit {labelTrainRaw[idx]}\")\n",
    "    pyplot.imshow(imageTrainRaw[idx], cmap='gray')\n",
    "    pyplot.savefig(\"./test/digitGrey.jpg\")\n",
    "    \n",
    "plotImage(idx = 7)"
   ]
  },
  {
   "cell_type": "code",
   "execution_count": 28,
   "metadata": {},
   "outputs": [],
   "source": [
    "# Preprocessing data (normalizing image arrays and 1-hot encoding label arrays)\n",
    "imageTest = np.reshape(imageTestRaw, (10000, 784))\n",
    "imageTest = preprocessing.normalize(imageTest, norm = \"max\")\n",
    "labelTest = tf.keras.utils.to_categorical(labelTestRaw, num_classes=10)\n",
    "\n",
    "imageValid = np.reshape(imageValidRaw, (5000, 784))\n",
    "imageValid = preprocessing.normalize(imageValid, norm = \"max\")\n",
    "labelValid = tf.keras.utils.to_categorical(labelValidRaw, num_classes=10)\n",
    "\n",
    "imageTrain = np.reshape(imageTrainRaw, (55000, 784))\n",
    "imageTrain = preprocessing.normalize(imageTrain, norm=\"max\")\n",
    "labelTrain = tf.keras.utils.to_categorical(labelTrainRaw, num_classes=10)"
   ]
  },
  {
   "cell_type": "code",
   "execution_count": 29,
   "metadata": {},
   "outputs": [],
   "source": [
    "# Setting up the neural network layer dimension and hypermeters \n",
    "iter = 20000      # Number of iterations\n",
    "sizeTrain = 55000 # Images in train set\n",
    "sizeValid = 5000  # Images in train set\n",
    "batchSize = 50    # Batch size\n",
    "etaInit = 0.05    # Initial learning rate\n",
    "etaDecay = 1      # Learning rate decay\n",
    "dInput = 784      # Input layer (28x28 pixels)\n",
    "dHidden = 400     # Hidden layer (16x16 pixel)\n",
    "dOutput = 10      # Output layer (0-9 digits)"
   ]
  },
  {
   "cell_type": "code",
   "execution_count": 30,
   "metadata": {},
   "outputs": [],
   "source": [
    "# ReLU activation for hidden layer\n",
    "def relu(x):\n",
    "    return np.maximum(0, x)\n",
    "\n",
    "# Softmax activation for output layer\n",
    "def softmax(x):\n",
    "    c = np.max(x, axis = 0)\n",
    "    x -= c\n",
    "    e = np.exp(x)\n",
    "    return e / sum(e)\n",
    "\n",
    "# Calculating loss value using cross entropy\n",
    "def flossSGD(yCal, yLabel):\n",
    "    result = sum(- np.log(yCal)[idx] * yLabel[idx] for idx in range(10))\n",
    "    return result\n",
    "\n",
    "def floss(yCal, yLabel):\n",
    "    result = -np.sum(np.log(yCal) * yLabel) / batchSize\n",
    "    return result"
   ]
  },
  {
   "cell_type": "code",
   "execution_count": 31,
   "metadata": {},
   "outputs": [
    {
     "name": "stdout",
     "output_type": "stream",
     "text": [
      "[Iter 0] Loss: 2.3000295168263096\n",
      "[Iter 2] Loss: 2.2730865689092896\n",
      "[Iter 4] Loss: 2.240529591173707\n",
      "[Iter 5] Loss: 2.2130775679666597\n",
      "[Iter 23] Loss: 2.185545266203702\n",
      "[Iter 37] Loss: 2.172640223892534\n",
      "[Iter 78] Loss: 2.131641019350424\n",
      "[Iter 85] Loss: 2.1121898645474606\n",
      "[Iter 87] Loss: 2.1076070235671107\n",
      "[Iter 89] Loss: 2.1036526602259324\n",
      "[Iter 90] Loss: 2.0280071170442158\n",
      "[Iter 95] Loss: 1.9509223945053713\n",
      "[Iter 103] Loss: 1.8347217949987096\n",
      "[Iter 114] Loss: 1.7656639518278023\n",
      "[Iter 120] Loss: 1.7101988634768681\n",
      "[Iter 123] Loss: 1.6066889686132084\n",
      "[Iter 125] Loss: 1.5676852233868588\n",
      "[Iter 133] Loss: 1.5087174897590432\n",
      "[Iter 134] Loss: 1.4721103857259004\n",
      "[Iter 139] Loss: 1.432014320048273\n",
      "[Iter 141] Loss: 1.43009758180914\n",
      "[Iter 145] Loss: 1.391103722028061\n",
      "[Iter 146] Loss: 1.3156591496057701\n",
      "[Iter 155] Loss: 1.2527904445663105\n",
      "[Iter 162] Loss: 1.1736150880757659\n",
      "[Iter 166] Loss: 1.1621694204476567\n",
      "[Iter 167] Loss: 1.0880212349668321\n",
      "[Iter 176] Loss: 1.0731734014932597\n",
      "[Iter 181] Loss: 1.0651719547883594\n",
      "[Iter 182] Loss: 0.9709171586535297\n",
      "[Iter 189] Loss: 0.900760628385093\n",
      "[Iter 201] Loss: 0.8102941229596123\n",
      "[Iter 228] Loss: 0.6707529864520105\n",
      "[Iter 243] Loss: 0.6589707912381689\n",
      "[Iter 256] Loss: 0.6366400331058746\n",
      "[Iter 263] Loss: 0.607162781762096\n",
      "[Iter 281] Loss: 0.5949752078910663\n",
      "[Iter 287] Loss: 0.5949750342586292\n",
      "[Iter 290] Loss: 0.5367006684139\n",
      "[Iter 291] Loss: 0.46147586720767814\n",
      "[Iter 296] Loss: 0.4092339927682275\n",
      "[Iter 332] Loss: 0.3591706335719405\n",
      "[Iter 416] Loss: 0.35903367739403325\n",
      "[Iter 445] Loss: 0.3506909578536168\n",
      "[Iter 473] Loss: 0.3219006293604076\n",
      "[Iter 474] Loss: 0.31180079591556054\n",
      "[Iter 484] Loss: 0.2675309708157152\n",
      "[Iter 533] Loss: 0.25686677126946367\n",
      "[Iter 553] Loss: 0.2252479784704897\n",
      "[Iter 683] Loss: 0.13816438647756224\n",
      "[Iter 1143] Loss: 0.12874085709454344\n",
      "[Iter 1275] Loss: 0.10780229959027945\n",
      "[Iter 1765] Loss: 0.06990768839489206\n",
      "[Iter 2515] Loss: 0.06669543229175048\n",
      "[Iter 2619] Loss: 0.047678269887374114\n",
      "[Iter 4329] Loss: 0.0419560918840728\n",
      "[Iter 4620] Loss: 0.03488411898744741\n",
      "[Iter 4921] Loss: 0.033906839521266045\n",
      "[Iter 5657] Loss: 0.03198941114507671\n",
      "[Iter 6430] Loss: 0.030096550585012073\n",
      "[Iter 6507] Loss: 0.02788163878881142\n",
      "[Iter 6734] Loss: 0.02230458224376859\n",
      "[Iter 7229] Loss: 0.01952095070593467\n",
      "[Iter 7765] Loss: 0.017830351366869238\n",
      "[Iter 8085] Loss: 0.017623967210895382\n",
      "[Iter 8132] Loss: 0.013715223778927931\n",
      "[Iter 9578] Loss: 0.007740826236491718\n",
      "[Iter 13699] Loss: 0.006583807095232597\n",
      "[Iter 14158] Loss: 0.006197880801198312\n",
      "[Iter 15009] Loss: 0.006152536723207413\n",
      "[Iter 16899] Loss: 0.004298839185110251\n",
      "[Iter 17202] Loss: 0.004295143838997865\n",
      "[Iter 18957] Loss: 0.004002592771515162\n",
      "[Iter 19306] Loss: 0.0028470794219049777\n"
     ]
    }
   ],
   "source": [
    "# Initializing weights, biases and eta\n",
    "w1 = 0.01 * np.random.rand(dInput, dHidden)\n",
    "b1 = 0.01 * np.random.rand(dHidden, batchSize)\n",
    "w2 = 0.01 * np.random.rand(dHidden, dOutput)\n",
    "b2 = 0.01 * np.random.rand(dOutput, batchSize)\n",
    "eta = etaInit\n",
    "\n",
    "lossPrev = 100000\n",
    "for n in range(iter + 1):\n",
    "    idxList = np.random.randint(sizeTrain, size=batchSize)\n",
    "    # Feedforward\n",
    "    x = imageTrain[idxList].T\n",
    "    z1 = np.dot(w1.T, x) + b1\n",
    "    a1 = relu(z1)\n",
    "    z2 = np.dot(w2.T, a1) + b2\n",
    "    a2 = softmax(z2)\n",
    "    yCal = a2 \n",
    "    yLabel = labelTrain[idxList].T\n",
    "    loss = floss(yCal, yLabel) \n",
    "    if(loss < lossPrev):\n",
    "        lossPrev = loss\n",
    "        w1Res = w1\n",
    "        b1Res = b1\n",
    "        w2Res = w2\n",
    "        b2Res = b2\n",
    "        print(f\"[Iter {n}] Loss: {loss}\")\n",
    "        \n",
    "    # Backpropagation\n",
    "    e2 = (yCal - yLabel) / batchSize # gradient of softmax using cross entropy\n",
    "    dw2 = np.dot(a1, e2.T)\n",
    "    db2 = sum(e2)\n",
    "    e1 = np.dot(w2, e2)\n",
    "    e1[z1 <= 0] = 0 # gradient of ReLU\n",
    "    dw1 = np.dot(x, e1.T)\n",
    "    db1 = sum(e1)\n",
    "\n",
    "    # Updating weights and biases\n",
    "    w1 += -eta * dw1\n",
    "    b1 += -eta * db1\n",
    "    w2 += -eta * dw2\n",
    "    b2 += -eta * db2"
   ]
  },
  {
   "cell_type": "code",
   "execution_count": 33,
   "metadata": {},
   "outputs": [
    {
     "ename": "AttributeError",
     "evalue": "module 'numpy' has no attribute 'arrange'",
     "output_type": "error",
     "traceback": [
      "\u001b[1;31m---------------------------------------------------------------------------\u001b[0m",
      "\u001b[1;31mAttributeError\u001b[0m                            Traceback (most recent call last)",
      "Cell \u001b[1;32mIn [33], line 4\u001b[0m\n\u001b[0;32m      2\u001b[0m batch \u001b[38;5;241m=\u001b[39m \u001b[38;5;241m0\u001b[39m\n\u001b[0;32m      3\u001b[0m \u001b[38;5;28;01mwhile\u001b[39;00m batch \u001b[38;5;241m<\u001b[39m \u001b[38;5;241m10000\u001b[39m:\n\u001b[1;32m----> 4\u001b[0m     idxList \u001b[38;5;241m=\u001b[39m \u001b[43mnp\u001b[49m\u001b[38;5;241;43m.\u001b[39;49m\u001b[43marrange\u001b[49m(batch, batch \u001b[38;5;241m+\u001b[39m batchSize, \u001b[38;5;241m1\u001b[39m)\n\u001b[0;32m      5\u001b[0m     x \u001b[38;5;241m=\u001b[39m imageTest[idxList]\u001b[38;5;241m.\u001b[39mT\n\u001b[0;32m      6\u001b[0m     z1 \u001b[38;5;241m=\u001b[39m np\u001b[38;5;241m.\u001b[39mdot(w1Res\u001b[38;5;241m.\u001b[39mT, x) \u001b[38;5;241m+\u001b[39m b1Res\n",
      "File \u001b[1;32mc:\\Users\\TheNM\\Downloads\\Coding\\ai-project\\venv\\lib\\site-packages\\numpy\\__init__.py:311\u001b[0m, in \u001b[0;36m__getattr__\u001b[1;34m(attr)\u001b[0m\n\u001b[0;32m    308\u001b[0m     \u001b[39mfrom\u001b[39;00m \u001b[39m.\u001b[39;00m\u001b[39mtesting\u001b[39;00m \u001b[39mimport\u001b[39;00m Tester\n\u001b[0;32m    309\u001b[0m     \u001b[39mreturn\u001b[39;00m Tester\n\u001b[1;32m--> 311\u001b[0m \u001b[39mraise\u001b[39;00m \u001b[39mAttributeError\u001b[39;00m(\u001b[39m\"\u001b[39m\u001b[39mmodule \u001b[39m\u001b[39m{!r}\u001b[39;00m\u001b[39m has no attribute \u001b[39m\u001b[39m\"\u001b[39m\n\u001b[0;32m    312\u001b[0m                      \u001b[39m\"\u001b[39m\u001b[39m{!r}\u001b[39;00m\u001b[39m\"\u001b[39m\u001b[39m.\u001b[39mformat(\u001b[39m__name__\u001b[39m, attr))\n",
      "\u001b[1;31mAttributeError\u001b[0m: module 'numpy' has no attribute 'arrange'"
     ]
    }
   ],
   "source": [
    "count = 0\n",
    "batch = 0\n",
    "while batch < 10000:\n",
    "    idxList = np.arange(batch, batch + batchSize, 1)\n",
    "    x = imageTest[idxList].T\n",
    "    z1 = np.dot(w1Res.T, x) + b1Res\n",
    "    a1 = relu(z1)\n",
    "    z2 = np.dot(w2Res.T, a1) + b2Res\n",
    "    a2 = softmax(z2)\n",
    "    yLabel = labelTest[idxList]\n",
    "    prediction = np.argmax(a2.T, axis=1)\n",
    "    answer = np.argmax(yLabel, axis = 1)\n",
    "    for n in range(50):\n",
    "        if(prediction[n] == answer[n]):\n",
    "            count += 1\n",
    "    batch += batchSize\n",
    "\n",
    "print(count / 10000)"
   ]
  }
 ],
 "metadata": {
  "kernelspec": {
   "display_name": "Python 3.10.6 ('venv': venv)",
   "language": "python",
   "name": "python3"
  },
  "language_info": {
   "codemirror_mode": {
    "name": "ipython",
    "version": 3
   },
   "file_extension": ".py",
   "mimetype": "text/x-python",
   "name": "python",
   "nbconvert_exporter": "python",
   "pygments_lexer": "ipython3",
   "version": "3.10.6"
  },
  "orig_nbformat": 4,
  "vscode": {
   "interpreter": {
    "hash": "f2ec3a27b206c5c715624a547105f4453c6ed312d93e4b85e955c3b1a3db3dae"
   }
  }
 },
 "nbformat": 4,
 "nbformat_minor": 2
}
