{
 "cells": [
  {
   "cell_type": "code",
   "execution_count": 149,
   "metadata": {},
   "outputs": [],
   "source": [
    "import tensorflow as tf\n",
    "import numpy as np\n",
    "import matplotlib.pyplot as plt\n",
    "from matplotlib.pyplot import figure\n",
    "from sklearn import preprocessing"
   ]
  },
  {
   "cell_type": "code",
   "execution_count": 150,
   "metadata": {},
   "outputs": [],
   "source": [
    "# Loading the MNIST datasets - 60000 images for training and 10000 images for testing\n",
    "(imageTrain, labelTrain), (imageTest, labelTest) = tf.keras.datasets.mnist.load_data()\n",
    "\n",
    "# Splitting the training set into 2: 55000 images for training and 5000 images for validation\n",
    "# Raw 2d array\n",
    "imageTrainRaw = imageTrain[:55000]\n",
    "labelTrainRaw = labelTrain[:55000]\n",
    "imageValidRaw = imageTrain[55000:]\n",
    "labelValidRaw = labelTrain[55000:]\n",
    "\n",
    "# Processed 1d array\n",
    "imageTrainPro = np.reshape(imageTrainRaw, (55000, 784))\n",
    "imageTrainPro = preprocessing.normalize(imageTrainPro, norm=\"max\")\n",
    "labelTrainPro = np.zeros((55000, 10))\n",
    "for idx in range(55000):\n",
    "    labelTrainPro[idx][labelTrainRaw[idx]] = 1\n",
    "imageValidPro = np.reshape(imageValidRaw, (5000, 784))\n",
    "imageValidPro = preprocessing.normalize(imageValidPro, norm = \"max\")\n",
    "labelValidPro = np.zeros((5000, 10))\n",
    "for idx in range(5000):\n",
    "    labelValidPro[idx][labelValidRaw[idx]] = 1\n",
    "imageTestPro = np.reshape(imageTest, (10000, 784))\n",
    "imageTestPro = preprocessing.normalize(imageTestPro, norm = \"max\")\n",
    "labelTestPro = np.zeros((10000, 10))\n",
    "for idx in range(10000):\n",
    "    labelTestPro[idx][labelTest[idx]] = 1"
   ]
  },
  {
   "cell_type": "code",
   "execution_count": 155,
   "metadata": {},
   "outputs": [
    {
     "name": "stdout",
     "output_type": "stream",
     "text": [
      "0    0    0    0    0    0    0    0    0    0    0    0    0    0    0    0    0    0    0    0    0    0    0    0    0    0    0    0    \n",
      "0    0    0    0    0    0    0    0    0    0    0    0    0    0    0    0    0    0    0    0    0    0    0    0    0    0    0    0    \n",
      "0    0    0    0    0    0    0    0    0    0    0    0    0    0    0    0    0    0    0    0    0    0    0    0    0    0    0    0    \n",
      "0    0    0    0    0    0    0    0    0    0    0    0    0    0    0    0    0    0    0    0    0    0    0    0    0    0    0    0    \n",
      "0    0    0    0    0    0    0    0    0    0    0    0    0    0    0    0    0    0    0    0    0    0    0    0    0    0    0    0    \n",
      "0    0    0    0    0    0    0    0    0    0    0    0    3    18   18   18   126  136  175  26   166  255  247  127  0    0    0    0    \n",
      "0    0    0    0    0    0    0    0    30   36   94   154  170  253  253  253  253  253  225  172  253  242  195  64   0    0    0    0    \n",
      "0    0    0    0    0    0    0    49   238  253  253  253  253  253  253  253  253  251  93   82   82   56   39   0    0    0    0    0    \n",
      "0    0    0    0    0    0    0    18   219  253  253  253  253  253  198  182  247  241  0    0    0    0    0    0    0    0    0    0    \n",
      "0    0    0    0    0    0    0    0    80   156  107  253  253  205  11   0    43   154  0    0    0    0    0    0    0    0    0    0    \n",
      "0    0    0    0    0    0    0    0    0    14   1    154  253  90   0    0    0    0    0    0    0    0    0    0    0    0    0    0    \n",
      "0    0    0    0    0    0    0    0    0    0    0    139  253  190  2    0    0    0    0    0    0    0    0    0    0    0    0    0    \n",
      "0    0    0    0    0    0    0    0    0    0    0    11   190  253  70   0    0    0    0    0    0    0    0    0    0    0    0    0    \n",
      "0    0    0    0    0    0    0    0    0    0    0    0    35   241  225  160  108  1    0    0    0    0    0    0    0    0    0    0    \n",
      "0    0    0    0    0    0    0    0    0    0    0    0    0    81   240  253  253  119  25   0    0    0    0    0    0    0    0    0    \n",
      "0    0    0    0    0    0    0    0    0    0    0    0    0    0    45   186  253  253  150  27   0    0    0    0    0    0    0    0    \n",
      "0    0    0    0    0    0    0    0    0    0    0    0    0    0    0    16   93   252  253  187  0    0    0    0    0    0    0    0    \n",
      "0    0    0    0    0    0    0    0    0    0    0    0    0    0    0    0    0    249  253  249  64   0    0    0    0    0    0    0    \n",
      "0    0    0    0    0    0    0    0    0    0    0    0    0    0    46   130  183  253  253  207  2    0    0    0    0    0    0    0    \n",
      "0    0    0    0    0    0    0    0    0    0    0    0    39   148  229  253  253  253  250  182  0    0    0    0    0    0    0    0    \n",
      "0    0    0    0    0    0    0    0    0    0    24   114  221  253  253  253  253  201  78   0    0    0    0    0    0    0    0    0    \n",
      "0    0    0    0    0    0    0    0    23   66   213  253  253  253  253  198  81   2    0    0    0    0    0    0    0    0    0    0    \n",
      "0    0    0    0    0    0    18   171  219  253  253  253  253  195  80   9    0    0    0    0    0    0    0    0    0    0    0    0    \n",
      "0    0    0    0    55   172  226  253  253  253  253  244  133  11   0    0    0    0    0    0    0    0    0    0    0    0    0    0    \n",
      "0    0    0    0    136  253  253  253  212  135  132  16   0    0    0    0    0    0    0    0    0    0    0    0    0    0    0    0    \n",
      "0    0    0    0    0    0    0    0    0    0    0    0    0    0    0    0    0    0    0    0    0    0    0    0    0    0    0    0    \n",
      "0    0    0    0    0    0    0    0    0    0    0    0    0    0    0    0    0    0    0    0    0    0    0    0    0    0    0    0    \n",
      "0    0    0    0    0    0    0    0    0    0    0    0    0    0    0    0    0    0    0    0    0    0    0    0    0    0    0    0    \n"
     ]
    },
    {
     "data": {
      "image/png": "[encoded data removed]",
      "text/plain": [
       "<Figure size 640x480 with 1 Axes>"
      ]
     },
     "metadata": {},
     "output_type": "display_data"
    }
   ],
   "source": [
    "# Visualizing an image array\n",
    "def visualizeArr(idx):\n",
    "    imageArr = \"\"\n",
    "    for row in imageTrainRaw[idx]:\n",
    "        for col in row:\n",
    "            if(len(str(col)) == 1):\n",
    "                print(str(col) + \"   \", end =\" \")\n",
    "                imageArr += str(col) + \"   \"\n",
    "            elif(len(str(col)) == 2):\n",
    "                print(str(col) + \"  \", end =\" \")\n",
    "                imageArr += str(col) + \"  \"\n",
    "            else:\n",
    "                print(str(col) + \" \", end =\" \")\n",
    "                imageArr += str(col) + \" \"\n",
    "        print()\n",
    "        imageArr += \"\\n\"\n",
    "    with open(\"./test/imageArr.txt\", \"w\") as file:\n",
    "        file.write(imageArr)\n",
    "# Plotting an image\n",
    "def plotImage(idx):\n",
    "    plt.title(f\"Digit {labelTrainRaw[idx]}\")\n",
    "    plt.imshow(imageTrainRaw[idx], cmap='gray')\n",
    "    plt.savefig(\"./test/digitGrey.jpg\")\n",
    "    \n",
    "visualizeArr(0)\n",
    "plotImage(0)"
   ]
  },
  {
   "cell_type": "code",
   "execution_count": 152,
   "metadata": {},
   "outputs": [],
   "source": [
    "# Setting up the neural network architecture and hyperparameters\n",
    "inputLayer = 784  # input layer (28x28 pixels)\n",
    "hiddenLayer1 = 512  # 1st hidden layer (14x14 pixel)\n",
    "hiddenLayer2 = 256  # 2nd hidden layer\n",
    "hiddenLayer3 = 128  # 3rd hidden layer\n",
    "outputLayer = 10  # output layer (0-9 digits)"
   ]
  },
  {
   "cell_type": "code",
   "execution_count": 153,
   "metadata": {},
   "outputs": [],
   "source": [
    "# Implement softmax function using cross-entropy and SGD\n",
    "def softmax(y):\n",
    "    e = np.exp(y)\n",
    "    return e / sum(e)\n",
    "\n",
    "def fLoss(theta, b, idx): # Using cross-entropy and SGD\n",
    "    result = 0\n",
    "    x = imageTrainPro[idx]\n",
    "    yCal = theta.dot(x) + b\n",
    "    yCal = softmax(yCal)\n",
    "    yGiven = labelTrainPro[idx]\n",
    "    for c in range(10):\n",
    "        result += -(yGiven[c] * np.log(yCal[c]))\n",
    "    return result\n",
    "\n",
    "def dfLoss(theta, b, idx): # Using SGD\n",
    "    x = imageTrainPro[idx]\n",
    "    yCal = theta.dot(x) + b\n",
    "    yCal = softmax(yCal)\n",
    "    yGiven = labelTrainPro[idx]\n",
    "    wRes = (yCal - yGiven).reshape(10,1).dot(x.reshape(1, 784))\n",
    "    bRes =  yCal - yGiven\n",
    "    return (wRes, bRes)\n",
    "\n",
    "step = np.float_power(10, -4)\n",
    "theta = np.random.rand(784, 10)\n",
    "theta = np.reshape(theta, (10, 784))\n",
    "b = np.random.rand(10)\n",
    "\n",
    "it = 0\n",
    "to_write = \"\"\n",
    "lossPrev = fLoss(theta, b, np.random.randint(0, 55000)) \n",
    "     \n",
    "while True:\n",
    "    it += 1\n",
    "    idx = np.random.randint(0, 55000)\n",
    "    (w_dLoss, b_dLoss) = dfLoss(theta, b, idx)\n",
    "    theta = theta - step * w_dLoss\n",
    "    b = b - step * b_dLoss\n",
    "    loss = fLoss(theta, b, idx)\n",
    "    if(loss < lossPrev):\n",
    "        lossPrev = loss\n",
    "        thetaFin = theta\n",
    "        bFin = b\n",
    "        to_write += f\"Loss: {'{0:.10f}'.format(loss)} - [It: {it}]\\n\"\n",
    "        if(loss < np.float_power(10, -6)):\n",
    "            with open(\"./test/lossMin.txt\", \"w\") as file:\n",
    "                file.write(to_write)\n",
    "            break"
   ]
  },
  {
   "cell_type": "code",
   "execution_count": 154,
   "metadata": {},
   "outputs": [
    {
     "name": "stdout",
     "output_type": "stream",
     "text": [
      "0.8892\n"
     ]
    }
   ],
   "source": [
    "count = 0\n",
    "for i in range(5000):\n",
    "    x_valid = imageValidPro[i]\n",
    "    y_valid = softmax(theta.dot(x_valid) + b)\n",
    "    result = np.argmax(y_valid)\n",
    "    if(result == labelValidRaw[i]):\n",
    "        count += 1\n",
    "print((count / 5000))"
   ]
  }
 ],
 "metadata": {
  "kernelspec": {
   "display_name": "Python 3.10.6 ('venv': venv)",
   "language": "python",
   "name": "python3"
  },
  "language_info": {
   "codemirror_mode": {
    "name": "ipython",
    "version": 3
   },
   "file_extension": ".py",
   "mimetype": "text/x-python",
   "name": "python",
   "nbconvert_exporter": "python",
   "pygments_lexer": "ipython3",
   "version": "3.10.6"
  },
  "orig_nbformat": 4,
  "vscode": {
   "interpreter": {
    "hash": "f2ec3a27b206c5c715624a547105f4453c6ed312d93e4b85e955c3b1a3db3dae"
   }
  }
 },
 "nbformat": 4,
 "nbformat_minor": 2
}
