{
 "cells": [
  {
   "cell_type": "code",
   "execution_count": 24,
   "metadata": {},
   "outputs": [],
   "source": [
    "import tensorflow as tf\n",
    "import numpy as np\n",
    "import matplotlib.pyplot as plt\n",
    "from matplotlib.pyplot import figure\n",
    "from sklearn import preprocessing"
   ]
  },
  {
   "cell_type": "code",
   "execution_count": 25,
   "metadata": {},
   "outputs": [],
   "source": [
    "# Loading the MNIST datasets - 60000 images for training and 10000 images for testing\n",
    "(imageTrain, labelTrain), (imageTest, labelTest) = tf.keras.datasets.mnist.load_data()\n",
    "# Splitting the training set into 2: 55000 images for training and 5000 images for validation\n",
    "# Raw 2d array\n",
    "imageTrainRaw = imageTrain[:55000]\n",
    "labelTrainRaw = labelTrain[:55000]\n",
    "imageValidRaw = imageTrain[55000:]\n",
    "labelValidRaw = labelTrain[55000:]\n",
    "# Processed 1d array\n",
    "imageTrainPro = np.reshape(imageTrainRaw, (55000, 784))\n",
    "imageTrainPro = preprocessing.normalize(imageTrainPro, norm=\"max\")\n",
    "labelTrainPro = np.zeros((55000, 10))\n",
    "for idx in range(55000):\n",
    "    labelTrainPro[idx][labelTrainRaw[idx]] = 1\n",
    "imageValidPro = np.reshape(imageValidRaw, (5000, 784))\n",
    "imageValidPro = preprocessing.normalize(imageValidPro, norm = \"max\")\n",
    "labelValidPro = np.zeros((5000, 10))\n",
    "for idx in range(5000):\n",
    "    labelValidPro[idx][labelValidRaw[idx]] = 1"
   ]
  },
  {
   "cell_type": "code",
   "execution_count": 26,
   "metadata": {},
   "outputs": [
    {
     "name": "stdout",
     "output_type": "stream",
     "text": [
      "0    0    0    0    0    0    0    0    0    0    0    0    0    0    0    0    0    0    0    0    0    0    0    0    0    0    0    0    \n",
      "0    0    0    0    0    0    0    0    0    0    0    0    0    0    0    0    0    0    0    0    0    0    0    0    0    0    0    0    \n",
      "0    0    0    0    0    0    0    0    0    0    0    0    0    0    0    0    0    0    0    0    0    0    0    0    0    0    0    0    \n",
      "0    0    0    0    0    0    0    0    0    0    0    0    0    0    0    0    0    0    0    0    0    0    0    0    0    0    0    0    \n",
      "0    0    0    0    0    0    0    0    0    0    0    0    0    0    0    51   159  253  159  50   0    0    0    0    0    0    0    0    \n",
      "0    0    0    0    0    0    0    0    0    0    0    0    0    0    48   238  252  252  252  237  0    0    0    0    0    0    0    0    \n",
      "0    0    0    0    0    0    0    0    0    0    0    0    0    54   227  253  252  239  233  252  57   6    0    0    0    0    0    0    \n",
      "0    0    0    0    0    0    0    0    0    0    0    10   60   224  252  253  252  202  84   252  253  122  0    0    0    0    0    0    \n",
      "0    0    0    0    0    0    0    0    0    0    0    163  252  252  252  253  252  252  96   189  253  167  0    0    0    0    0    0    \n",
      "0    0    0    0    0    0    0    0    0    0    51   238  253  253  190  114  253  228  47   79   255  168  0    0    0    0    0    0    \n",
      "0    0    0    0    0    0    0    0    0    48   238  252  252  179  12   75   121  21   0    0    253  243  50   0    0    0    0    0    \n",
      "0    0    0    0    0    0    0    0    38   165  253  233  208  84   0    0    0    0    0    0    253  252  165  0    0    0    0    0    \n",
      "0    0    0    0    0    0    0    7    178  252  240  71   19   28   0    0    0    0    0    0    253  252  195  0    0    0    0    0    \n",
      "0    0    0    0    0    0    0    57   252  252  63   0    0    0    0    0    0    0    0    0    253  252  195  0    0    0    0    0    \n",
      "0    0    0    0    0    0    0    198  253  190  0    0    0    0    0    0    0    0    0    0    255  253  196  0    0    0    0    0    \n",
      "0    0    0    0    0    0    76   246  252  112  0    0    0    0    0    0    0    0    0    0    253  252  148  0    0    0    0    0    \n",
      "0    0    0    0    0    0    85   252  230  25   0    0    0    0    0    0    0    0    7    135  253  186  12   0    0    0    0    0    \n",
      "0    0    0    0    0    0    85   252  223  0    0    0    0    0    0    0    0    7    131  252  225  71   0    0    0    0    0    0    \n",
      "0    0    0    0    0    0    85   252  145  0    0    0    0    0    0    0    48   165  252  173  0    0    0    0    0    0    0    0    \n",
      "0    0    0    0    0    0    86   253  225  0    0    0    0    0    0    114  238  253  162  0    0    0    0    0    0    0    0    0    \n",
      "0    0    0    0    0    0    85   252  249  146  48   29   85   178  225  253  223  167  56   0    0    0    0    0    0    0    0    0    \n",
      "0    0    0    0    0    0    85   252  252  252  229  215  252  252  252  196  130  0    0    0    0    0    0    0    0    0    0    0    \n",
      "0    0    0    0    0    0    28   199  252  252  253  252  252  233  145  0    0    0    0    0    0    0    0    0    0    0    0    0    \n",
      "0    0    0    0    0    0    0    25   128  252  253  252  141  37   0    0    0    0    0    0    0    0    0    0    0    0    0    0    \n",
      "0    0    0    0    0    0    0    0    0    0    0    0    0    0    0    0    0    0    0    0    0    0    0    0    0    0    0    0    \n",
      "0    0    0    0    0    0    0    0    0    0    0    0    0    0    0    0    0    0    0    0    0    0    0    0    0    0    0    0    \n",
      "0    0    0    0    0    0    0    0    0    0    0    0    0    0    0    0    0    0    0    0    0    0    0    0    0    0    0    0    \n",
      "0    0    0    0    0    0    0    0    0    0    0    0    0    0    0    0    0    0    0    0    0    0    0    0    0    0    0    0    \n"
     ]
    },
    {
     "data": {
      "image/png": "[encoded data removed]",
      "text/plain": [
       "<Figure size 640x480 with 1 Axes>"
      ]
     },
     "metadata": {},
     "output_type": "display_data"
    }
   ],
   "source": [
    "idx = 1\n",
    "# Visualizing an image array\n",
    "imageArr = \"\"\n",
    "for row in imageTrainRaw[idx]:\n",
    "    for col in row:\n",
    "        if(len(str(col)) == 1):\n",
    "            print(str(col) + \"   \", end =\" \")\n",
    "            imageArr += str(col) + \"   \"\n",
    "        elif(len(str(col)) == 2):\n",
    "            print(str(col) + \"  \", end =\" \")\n",
    "            imageArr += str(col) + \"  \"\n",
    "        else:\n",
    "            print(str(col) + \" \", end =\" \")\n",
    "            imageArr += str(col) + \" \"\n",
    "    print()\n",
    "    imageArr += \"\\n\"\n",
    "with open(\"./test/imageArr.txt\", \"w\") as file:\n",
    "    file.write(imageArr)\n",
    "# Plotting an image\n",
    "plt.title(f\"Digit {labelTrainRaw[idx]}\")\n",
    "plt.imshow(imageTrainRaw[idx], cmap='gray')\n",
    "plt.savefig(\"./test/digit_grey.jpg\")"
   ]
  },
  {
   "cell_type": "code",
   "execution_count": 27,
   "metadata": {},
   "outputs": [],
   "source": [
    "# Setting up the neural network architecture and hyperparameters\n",
    "inputLayer = 784  # input layer (28x28 pixels)\n",
    "hiddenLayer1 = 512  # 1st hidden layer (14x14 pixel)\n",
    "hiddenLayer2 = 256  # 2nd hidden layer\n",
    "hiddenLayer3 = 128  # 3rd hidden layer\n",
    "outputLayer = 10  # output layer (0-9 digits)\n",
    "\n",
    "learningRate = np.float_power(10, -4)\n",
    "iterations = 1000\n",
    "size = 55000\n",
    "dropout = 0.5\n",
    "\n",
    "theta = np.random.rand(784, 10)\n",
    "theta = np.reshape(theta, (10, 784))\n",
    "b = np.random.rand(10)"
   ]
  },
  {
   "cell_type": "code",
   "execution_count": 52,
   "metadata": {},
   "outputs": [
    {
     "name": "stdout",
     "output_type": "stream",
     "text": [
      "[[ 7.09317241e-04 -3.96639134e-07 -2.87961828e-04 -3.48383367e-05\n",
      "  -1.22088842e-07 -8.28324416e-06 -3.36724338e-06 -3.66386628e-04\n",
      "  -2.54754139e-06 -5.41369094e-06]\n",
      " [-3.96639134e-07  5.58475233e-04 -2.26690171e-04 -2.74255395e-05\n",
      "  -9.61111426e-08 -6.52076022e-06 -2.65077139e-06 -2.88427976e-04\n",
      "  -2.00548314e-06 -4.26178195e-06]\n",
      " [-2.87961828e-04 -2.26690171e-04  2.41104165e-01 -1.99110673e-02\n",
      "  -6.97771298e-05 -4.73410179e-03 -1.92447217e-03 -2.09400032e-01\n",
      "  -1.45598995e-03 -3.09407322e-03]\n",
      " [-3.48383367e-05 -2.74255395e-05 -1.99110673e-02  4.66715573e-02\n",
      "  -8.44181034e-06 -5.72743384e-04 -2.32827420e-04 -2.53337356e-02\n",
      "  -1.76149278e-04 -3.74328658e-04]\n",
      " [-1.22088842e-07 -9.61111426e-08 -6.97771298e-05 -8.44181034e-06\n",
      "   1.71969873e-04 -2.00714451e-06 -8.15929596e-07 -8.87805424e-05\n",
      "  -6.17304478e-07 -1.31181212e-06]\n",
      " [-8.28324416e-06 -6.52076022e-06 -4.73410179e-03 -5.72743384e-04\n",
      "  -2.00714451e-06  1.15333049e-02 -5.53575903e-05 -6.02340804e-03\n",
      "  -4.18816630e-05 -8.90012544e-05]\n",
      " [-3.36724338e-06 -2.65077139e-06 -1.92447217e-03 -2.32827420e-04\n",
      "  -8.15929596e-07 -5.53575903e-05  4.72128814e-03 -2.44859145e-03\n",
      "  -1.70254250e-05 -3.61801341e-05]\n",
      " [-3.66386628e-04 -2.88427976e-04 -2.09400032e-01 -2.53337356e-02\n",
      "  -8.87805424e-05 -6.02340804e-03 -2.44859145e-03  2.49738610e-01\n",
      "  -1.85252070e-03 -3.93672683e-03]\n",
      " [-2.54754139e-06 -2.00548314e-06 -1.45598995e-03 -1.76149278e-04\n",
      "  -6.17304478e-07 -4.18816630e-05 -1.70254250e-05 -1.85252070e-03\n",
      "   3.57611000e-03 -2.73726543e-05]\n",
      " [-5.41369094e-06 -4.26178195e-06 -3.09407322e-03 -3.74328658e-04\n",
      "  -1.31181212e-06 -8.90012544e-05 -3.61801341e-05 -3.93672683e-03\n",
      "  -2.73726543e-05  7.56867003e-03]]\n"
     ]
    }
   ],
   "source": [
    "# Simple softmax function implementation\n",
    "def softmax(y):\n",
    "    e = np.exp(y)\n",
    "    return e / sum(e)\n",
    "\n",
    "def fLoss(theta, b, size):\n",
    "    result = 0\n",
    "    for n in range(size): # Loop through all inputs\n",
    "        x = imageTrainPro[idx]\n",
    "        yCal = theta.dot(x) + b\n",
    "        yGiven = labelTrainPro[n]\n",
    "        resultArr = softmax(yCal) - yGiven\n",
    "        for i in range(10): # Loop through all matrix y elements\n",
    "            result += np.power(resultArr[i], 2)\n",
    "    return result / 2\n",
    "    # return result / (2 * size)\n",
    "\n",
    "def dfLoss(theta):\n",
    "    result = np.zeros((10, 10))\n",
    "    x = imageTrainPro[idx]\n",
    "    yCal = theta.dot(x) + b\n",
    "    yCal = softmax(yCal)\n",
    "    for i in range(10):\n",
    "        for j in range(10):\n",
    "            if(i == j):\n",
    "                result[i][j] = yCal[i] * (1 - yCal[j])\n",
    "            else:\n",
    "                result[i][j] = yCal[i] * (-1 * yCal[j])\n",
    "    print(result)\n",
    "            \n",
    "\n",
    "\n",
    "\n",
    "for idx in range(1):\n",
    "    # loss = fLoss(theta, b, size)\n",
    "    dloss = dfLoss(theta)\n",
    "    \n"
   ]
  },
  {
   "cell_type": "code",
   "execution_count": null,
   "metadata": {},
   "outputs": [],
   "source": []
  }
 ],
 "metadata": {
  "kernelspec": {
   "display_name": "Python 3.10.6 ('venv': venv)",
   "language": "python",
   "name": "python3"
  },
  "language_info": {
   "codemirror_mode": {
    "name": "ipython",
    "version": 3
   },
   "file_extension": ".py",
   "mimetype": "text/x-python",
   "name": "python",
   "nbconvert_exporter": "python",
   "pygments_lexer": "ipython3",
   "version": "3.10.6"
  },
  "orig_nbformat": 4,
  "vscode": {
   "interpreter": {
    "hash": "f2ec3a27b206c5c715624a547105f4453c6ed312d93e4b85e955c3b1a3db3dae"
   }
  }
 },
 "nbformat": 4,
 "nbformat_minor": 2
}
